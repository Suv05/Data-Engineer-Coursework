{
 "cells": [
  {
   "cell_type": "code",
   "execution_count": null,
   "id": "2389fff3",
   "metadata": {},
   "outputs": [],
   "source": [
    "from pyspark.sql import SparkSession\n",
    "from pyspark import StorageLevel\n",
    "\n",
    "spark = SparkSession.builder.appName(\"PersistExample\").getOrCreate()\n",
    "\n",
    "# Create a DataFrame\n",
    "df = spark.read.csv(\"large_dataset.csv\", header=True, inferSchema=True)\n",
    "\n",
    "# Apply some transformations\n",
    "filtered_df = df.filter(df.age > 25).select(\"name\", \"age\", \"salary\")\n",
    "\n",
    "# Persist the DataFrame since we'll use it multiple times\n",
    "filtered_df.persist(StorageLevel.MEMORY_AND_DISK)\n",
    "\n",
    "# Multiple actions on the same DataFrame\n",
    "count = filtered_df.count()  # First computation - data gets cached\n",
    "avg_salary = filtered_df.agg({\"salary\": \"avg\"}).collect()  # Uses cached data\n",
    "max_age = filtered_df.agg({\"age\": \"max\"}).collect()  # Uses cached data\n",
    "\n",
    "# Don't forget to unpersist when done\n",
    "filtered_df.unpersist()"
   ]
  }
 ],
 "metadata": {
  "language_info": {
   "name": "python"
  }
 },
 "nbformat": 4,
 "nbformat_minor": 5
}
