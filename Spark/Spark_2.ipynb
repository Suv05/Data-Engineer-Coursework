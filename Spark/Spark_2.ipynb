{
 "cells": [
  {
   "cell_type": "markdown",
   "id": "23f70346",
   "metadata": {},
   "source": [
    "## Spark DataFrame Operations"
   ]
  },
  {
   "cell_type": "code",
   "execution_count": 24,
   "id": "498a22d2-d5e4-4954-b606-97730f41c8d4",
   "metadata": {
    "tags": []
   },
   "outputs": [],
   "source": [
    "from pyspark.sql import SparkSession\n",
    "from pyspark.sql.functions import col,to_date,desc"
   ]
  },
  {
   "cell_type": "code",
   "execution_count": 3,
   "id": "1564e666-f171-4cd3-8e47-f9f07097c695",
   "metadata": {
    "collapsed": true,
    "jupyter": {
     "outputs_hidden": true
    },
    "tags": []
   },
   "outputs": [
    {
     "name": "stderr",
     "output_type": "stream",
     "text": [
      "25/06/23 13:40:28 WARN SparkSession: Using an existing Spark session; only runtime SQL configurations will take effect.\n"
     ]
    }
   ],
   "source": [
    "spark=SparkSession.builder.appName(\"Rdd_operations\").getOrCreate()"
   ]
  },
  {
   "cell_type": "markdown",
   "id": "ee3392d3-c890-4369-882c-dea5ea07533c",
   "metadata": {},
   "source": [
    "## Dummy Data set"
   ]
  },
  {
   "cell_type": "code",
   "execution_count": 5,
   "id": "58c1a7a5-bc36-486f-8d94-3717973c37c8",
   "metadata": {
    "tags": []
   },
   "outputs": [],
   "source": [
    "retail_orders_data = [\n",
    "    {\"OrderID\": \"ORD001\", \"CustomerID\": \"CUST101\", \"ProductID\": \"PROD001\", \"ProductName\": \"Laptop A\", \"Quantity\": 1, \"UnitPrice\": 1200.00, \"OrderDate\": \"2024-01-15\", \"Country\": \"USA\"},\n",
    "    {\"OrderID\": \"ORD001\", \"CustomerID\": \"CUST101\", \"ProductID\": \"PROD003\", \"ProductName\": \"Mouse XYZ\", \"Quantity\": 2, \"UnitPrice\": 25.50, \"OrderDate\": \"2024-01-15\", \"Country\": \"USA\"},\n",
    "    {\"OrderID\": \"ORD002\", \"CustomerID\": \"CUST102\", \"ProductID\": \"PROD002\", \"ProductName\": \"Smartphone B\", \"Quantity\": 1, \"UnitPrice\": 850.00, \"OrderDate\": \"2024-01-16\", \"Country\": \"Canada\"},\n",
    "    {\"OrderID\": \"ORD003\", \"CustomerID\": \"CUST101\", \"ProductID\": \"PROD004\", \"ProductName\": \"Keyboard Pro\", \"Quantity\": 1, \"UnitPrice\": 75.00, \"OrderDate\": \"2024-01-17\", \"Country\": \"USA\"},\n",
    "    {\"OrderID\": \"ORD003\", \"CustomerID\": \"CUST101\", \"ProductID\": \"PROD005\", \"ProductName\": \"Webcam HD\", \"Quantity\": 1, \"UnitPrice\": 49.99, \"OrderDate\": \"2024-01-17\", \"Country\": \"USA\"},\n",
    "    {\"OrderID\": \"ORD004\", \"CustomerID\": \"CUST103\", \"ProductID\": \"PROD001\", \"ProductName\": \"Laptop A\", \"Quantity\": 1, \"UnitPrice\": 1200.00, \"OrderDate\": \"2024-01-18\", \"Country\": \"UK\"},\n",
    "    {\"OrderID\": \"ORD004\", \"CustomerID\": \"CUST103\", \"ProductID\": \"PROD006\", \"ProductName\": \"Monitor 27in\", \"Quantity\": 1, \"UnitPrice\": 300.00, \"OrderDate\": \"2024-01-18\", \"Country\": \"UK\"},\n",
    "    {\"OrderID\": \"ORD005\", \"CustomerID\": \"CUST104\", \"ProductID\": \"PROD007\", \"ProductName\": \"Headphones ANC\", \"Quantity\": 1, \"UnitPrice\": 199.99, \"OrderDate\": \"2024-01-19\", \"Country\": \"Australia\"},\n",
    "    {\"OrderID\": \"ORD006\", \"CustomerID\": \"CUST105\", \"ProductID\": \"PROD008\", \"ProductName\": \"External SSD 1TB\", \"Quantity\": 1, \"UnitPrice\": 150.00, \"OrderDate\": \"2024-01-20\", \"Country\": \"USA\"},\n",
    "    {\"OrderID\": \"ORD006\", \"CustomerID\": \"CUST105\", \"ProductID\": \"PROD003\", \"ProductName\": \"Mouse XYZ\", \"Quantity\": 1, \"UnitPrice\": 25.50, \"OrderDate\": \"2024-01-20\", \"Country\": \"USA\"},\n",
    "    {\"OrderID\": \"ORD007\", \"CustomerID\": \"CUST102\", \"ProductID\": \"PROD009\", \"ProductName\": \"Printer Laser\", \"Quantity\": 1, \"UnitPrice\": 220.00, \"OrderDate\": \"2024-01-21\", \"Country\": \"Canada\"},\n",
    "    {\"OrderID\": \"ORD008\", \"CustomerID\": \"CUST106\", \"ProductID\": \"PROD010\", \"ProductName\": \"Smartwatch X\", \"Quantity\": 1, \"UnitPrice\": 299.99, \"OrderDate\": \"2024-01-22\", \"Country\": \"Germany\"},\n",
    "    {\"OrderID\": \"ORD009\", \"CustomerID\": \"CUST101\", \"ProductID\": \"PROD002\", \"ProductName\": \"Smartphone B\", \"Quantity\": 1, \"UnitPrice\": 850.00, \"OrderDate\": \"2024-01-23\", \"Country\": \"USA\"},\n",
    "    {\"OrderID\": \"ORD010\", \"CustomerID\": \"CUST107\", \"ProductID\": \"PROD004\", \"ProductName\": \"Keyboard Pro\", \"Quantity\": 2, \"UnitPrice\": 75.00, \"OrderDate\": \"2024-01-24\", \"Country\": \"France\"},\n",
    "    {\"OrderID\": \"ORD011\", \"CustomerID\": \"CUST108\", \"ProductID\": \"PROD001\", \"ProductName\": \"Laptop A\", \"Quantity\": 1, \"UnitPrice\": 1200.00, \"OrderDate\": \"2024-01-25\", \"Country\": \"USA\"},\n",
    "    {\"OrderID\": \"ORD011\", \"CustomerID\": \"CUST108\", \"ProductID\": \"PROD005\", \"ProductName\": \"Webcam HD\", \"Quantity\": 1, \"UnitPrice\": 49.99, \"OrderDate\": \"2024-01-25\", \"Country\": \"USA\"},\n",
    "    {\"OrderID\": \"ORD012\", \"CustomerID\": \"CUST109\", \"ProductID\": \"PROD007\", \"ProductName\": \"Headphones ANC\", \"Quantity\": 1, \"UnitPrice\": 199.99, \"OrderDate\": \"2024-01-26\", \"Country\": \"Japan\"},\n",
    "    {\"OrderID\": \"ORD013\", \"CustomerID\": \"CUST101\", \"ProductID\": \"PROD003\", \"ProductName\": \"Mouse XYZ\", \"Quantity\": 3, \"UnitPrice\": 25.50, \"OrderDate\": \"2024-01-27\", \"Country\": \"USA\"},\n",
    "    {\"OrderID\": \"ORD014\", \"CustomerID\": \"CUST110\", \"ProductID\": \"PROD006\", \"ProductName\": \"Monitor 27in\", \"Quantity\": 1, \"UnitPrice\": 300.00, \"OrderDate\": \"2024-01-28\", \"Country\": \"UK\"},\n",
    "    {\"OrderID\": \"ORD015\", \"CustomerID\": \"CUST102\", \"ProductID\": \"PROD008\", \"ProductName\": \"External SSD 1TB\", \"Quantity\": 1, \"UnitPrice\": 150.00, \"OrderDate\": \"2024-01-29\", \"Country\": \"Canada\"},\n",
    "    {\"OrderID\": \"ORD016\", \"CustomerID\": \"CUST103\", \"ProductID\": \"PROD009\", \"ProductName\": \"Printer Laser\", \"Quantity\": 1, \"UnitPrice\": 220.00, \"OrderDate\": \"2024-01-30\", \"Country\": \"UK\"},\n",
    "    {\"OrderID\": \"ORD017\", \"CustomerID\": \"CUST104\", \"ProductID\": \"PROD010\", \"ProductName\": \"Smartwatch X\", \"Quantity\": 1, \"UnitPrice\": 299.99, \"OrderDate\": \"2024-01-31\", \"Country\": \"Australia\"}\n",
    "]"
   ]
  },
  {
   "cell_type": "code",
   "execution_count": 6,
   "id": "b9a9ce79-70ed-4bc1-8659-af83a933457b",
   "metadata": {
    "tags": []
   },
   "outputs": [],
   "source": [
    "df_list=spark.createDataFrame(retail_orders_data)"
   ]
  },
  {
   "cell_type": "code",
   "execution_count": 9,
   "id": "64db1e84-10c9-44e0-a799-60d739409df6",
   "metadata": {
    "tags": []
   },
   "outputs": [],
   "source": [
    "# Cast OrderDate to DateType if using this method, as createDataFrame might infer StringType\n",
    "df_list=df_list.withColumn(\"OrderDate\", to_date(col(\"OrderDate\"), \"yyyy-MM-dd\"))"
   ]
  },
  {
   "cell_type": "code",
   "execution_count": 10,
   "id": "460571c0-02a5-4f9a-8531-fe75a7eed687",
   "metadata": {
    "tags": []
   },
   "outputs": [
    {
     "name": "stdout",
     "output_type": "stream",
     "text": [
      "root\n",
      " |-- Country: string (nullable = true)\n",
      " |-- CustomerID: string (nullable = true)\n",
      " |-- OrderDate: date (nullable = true)\n",
      " |-- OrderID: string (nullable = true)\n",
      " |-- ProductID: string (nullable = true)\n",
      " |-- ProductName: string (nullable = true)\n",
      " |-- Quantity: long (nullable = true)\n",
      " |-- UnitPrice: double (nullable = true)\n",
      "\n"
     ]
    }
   ],
   "source": [
    "df_list.printSchema()"
   ]
  },
  {
   "cell_type": "code",
   "execution_count": 11,
   "id": "573000fb-f87c-4cfb-bdcc-f16cc3eac78c",
   "metadata": {
    "tags": []
   },
   "outputs": [
    {
     "name": "stderr",
     "output_type": "stream",
     "text": [
      "                                                                                \r"
     ]
    },
    {
     "name": "stdout",
     "output_type": "stream",
     "text": [
      "+---------+----------+----------+-------+---------+----------------+--------+---------+\n",
      "|  Country|CustomerID| OrderDate|OrderID|ProductID|     ProductName|Quantity|UnitPrice|\n",
      "+---------+----------+----------+-------+---------+----------------+--------+---------+\n",
      "|      USA|   CUST101|2024-01-15| ORD001|  PROD001|        Laptop A|       1|   1200.0|\n",
      "|      USA|   CUST101|2024-01-15| ORD001|  PROD003|       Mouse XYZ|       2|     25.5|\n",
      "|   Canada|   CUST102|2024-01-16| ORD002|  PROD002|    Smartphone B|       1|    850.0|\n",
      "|      USA|   CUST101|2024-01-17| ORD003|  PROD004|    Keyboard Pro|       1|     75.0|\n",
      "|      USA|   CUST101|2024-01-17| ORD003|  PROD005|       Webcam HD|       1|    49.99|\n",
      "|       UK|   CUST103|2024-01-18| ORD004|  PROD001|        Laptop A|       1|   1200.0|\n",
      "|       UK|   CUST103|2024-01-18| ORD004|  PROD006|    Monitor 27in|       1|    300.0|\n",
      "|Australia|   CUST104|2024-01-19| ORD005|  PROD007|  Headphones ANC|       1|   199.99|\n",
      "|      USA|   CUST105|2024-01-20| ORD006|  PROD008|External SSD 1TB|       1|    150.0|\n",
      "|      USA|   CUST105|2024-01-20| ORD006|  PROD003|       Mouse XYZ|       1|     25.5|\n",
      "|   Canada|   CUST102|2024-01-21| ORD007|  PROD009|   Printer Laser|       1|    220.0|\n",
      "|  Germany|   CUST106|2024-01-22| ORD008|  PROD010|    Smartwatch X|       1|   299.99|\n",
      "|      USA|   CUST101|2024-01-23| ORD009|  PROD002|    Smartphone B|       1|    850.0|\n",
      "|   France|   CUST107|2024-01-24| ORD010|  PROD004|    Keyboard Pro|       2|     75.0|\n",
      "|      USA|   CUST108|2024-01-25| ORD011|  PROD001|        Laptop A|       1|   1200.0|\n",
      "|      USA|   CUST108|2024-01-25| ORD011|  PROD005|       Webcam HD|       1|    49.99|\n",
      "|    Japan|   CUST109|2024-01-26| ORD012|  PROD007|  Headphones ANC|       1|   199.99|\n",
      "|      USA|   CUST101|2024-01-27| ORD013|  PROD003|       Mouse XYZ|       3|     25.5|\n",
      "|       UK|   CUST110|2024-01-28| ORD014|  PROD006|    Monitor 27in|       1|    300.0|\n",
      "|   Canada|   CUST102|2024-01-29| ORD015|  PROD008|External SSD 1TB|       1|    150.0|\n",
      "+---------+----------+----------+-------+---------+----------------+--------+---------+\n",
      "only showing top 20 rows\n",
      "\n"
     ]
    }
   ],
   "source": [
    "df_list.show()  # Display the DataFrame without truncating the output"
   ]
  },
  {
   "cell_type": "markdown",
   "id": "c5884e6a-088c-429c-90c4-7ec42fb007de",
   "metadata": {},
   "source": [
    "### Filteration"
   ]
  },
  {
   "cell_type": "code",
   "execution_count": 15,
   "id": "f4db20f3-de68-42c7-bbe0-333282db61bc",
   "metadata": {
    "tags": []
   },
   "outputs": [
    {
     "name": "stdout",
     "output_type": "stream",
     "text": [
      "Orders from USA:\n",
      "+-------+----------+----------+-------+---------+----------------+--------+---------+\n",
      "|Country|CustomerID| OrderDate|OrderID|ProductID|     ProductName|Quantity|UnitPrice|\n",
      "+-------+----------+----------+-------+---------+----------------+--------+---------+\n",
      "|    USA|   CUST101|2024-01-15| ORD001|  PROD001|        Laptop A|       1|   1200.0|\n",
      "|    USA|   CUST101|2024-01-15| ORD001|  PROD003|       Mouse XYZ|       2|     25.5|\n",
      "|    USA|   CUST101|2024-01-17| ORD003|  PROD004|    Keyboard Pro|       1|     75.0|\n",
      "|    USA|   CUST101|2024-01-17| ORD003|  PROD005|       Webcam HD|       1|    49.99|\n",
      "|    USA|   CUST105|2024-01-20| ORD006|  PROD008|External SSD 1TB|       1|    150.0|\n",
      "|    USA|   CUST105|2024-01-20| ORD006|  PROD003|       Mouse XYZ|       1|     25.5|\n",
      "|    USA|   CUST101|2024-01-23| ORD009|  PROD002|    Smartphone B|       1|    850.0|\n",
      "|    USA|   CUST108|2024-01-25| ORD011|  PROD001|        Laptop A|       1|   1200.0|\n",
      "|    USA|   CUST108|2024-01-25| ORD011|  PROD005|       Webcam HD|       1|    49.99|\n",
      "|    USA|   CUST101|2024-01-27| ORD013|  PROD003|       Mouse XYZ|       3|     25.5|\n",
      "+-------+----------+----------+-------+---------+----------------+--------+---------+\n",
      "\n"
     ]
    }
   ],
   "source": [
    "# Find all orders from a specific country (e.g., \"USA\")\n",
    "usa_orders = df_list.filter(col(\"Country\") == \"USA\")\n",
    "print(\"Orders from USA:\")\n",
    "usa_orders.show()  # Display the filtered DataFrame"
   ]
  },
  {
   "cell_type": "code",
   "execution_count": 16,
   "id": "33aa1ad4-ab84-42da-badb-ad202bcbb5a7",
   "metadata": {
    "tags": []
   },
   "outputs": [
    {
     "name": "stdout",
     "output_type": "stream",
     "text": [
      "Orders placed after 2024-01-20:\n",
      "+---------+----------+----------+-------+---------+----------------+--------+---------+\n",
      "|  Country|CustomerID| OrderDate|OrderID|ProductID|     ProductName|Quantity|UnitPrice|\n",
      "+---------+----------+----------+-------+---------+----------------+--------+---------+\n",
      "|   Canada|   CUST102|2024-01-21| ORD007|  PROD009|   Printer Laser|       1|    220.0|\n",
      "|  Germany|   CUST106|2024-01-22| ORD008|  PROD010|    Smartwatch X|       1|   299.99|\n",
      "|      USA|   CUST101|2024-01-23| ORD009|  PROD002|    Smartphone B|       1|    850.0|\n",
      "|   France|   CUST107|2024-01-24| ORD010|  PROD004|    Keyboard Pro|       2|     75.0|\n",
      "|      USA|   CUST108|2024-01-25| ORD011|  PROD001|        Laptop A|       1|   1200.0|\n",
      "|      USA|   CUST108|2024-01-25| ORD011|  PROD005|       Webcam HD|       1|    49.99|\n",
      "|    Japan|   CUST109|2024-01-26| ORD012|  PROD007|  Headphones ANC|       1|   199.99|\n",
      "|      USA|   CUST101|2024-01-27| ORD013|  PROD003|       Mouse XYZ|       3|     25.5|\n",
      "|       UK|   CUST110|2024-01-28| ORD014|  PROD006|    Monitor 27in|       1|    300.0|\n",
      "|   Canada|   CUST102|2024-01-29| ORD015|  PROD008|External SSD 1TB|       1|    150.0|\n",
      "|       UK|   CUST103|2024-01-30| ORD016|  PROD009|   Printer Laser|       1|    220.0|\n",
      "|Australia|   CUST104|2024-01-31| ORD017|  PROD010|    Smartwatch X|       1|   299.99|\n",
      "+---------+----------+----------+-------+---------+----------------+--------+---------+\n",
      "\n"
     ]
    }
   ],
   "source": [
    "#Find all orders placed after a certain date.\n",
    "after_date_orders = df_list.filter(col(\"OrderDate\") > \"2024-01-20\")\n",
    "print(\"Orders placed after 2024-01-20:\")\n",
    "after_date_orders.show()  # Display the filtered DataFrame"
   ]
  },
  {
   "cell_type": "code",
   "execution_count": 17,
   "id": "78bbfce2-19f1-4536-abab-be1c12a13bfd",
   "metadata": {
    "tags": []
   },
   "outputs": [
    {
     "name": "stdout",
     "output_type": "stream",
     "text": [
      "Products with Quantity greater than 1:\n",
      "+-------+----------+----------+-------+---------+------------+--------+---------+\n",
      "|Country|CustomerID| OrderDate|OrderID|ProductID| ProductName|Quantity|UnitPrice|\n",
      "+-------+----------+----------+-------+---------+------------+--------+---------+\n",
      "|    USA|   CUST101|2024-01-15| ORD001|  PROD003|   Mouse XYZ|       2|     25.5|\n",
      "| France|   CUST107|2024-01-24| ORD010|  PROD004|Keyboard Pro|       2|     75.0|\n",
      "|    USA|   CUST101|2024-01-27| ORD013|  PROD003|   Mouse XYZ|       3|     25.5|\n",
      "+-------+----------+----------+-------+---------+------------+--------+---------+\n",
      "\n"
     ]
    }
   ],
   "source": [
    "# Find products with Quantity greater than 1\n",
    "quantity_products = df_list.filter(col(\"Quantity\") > 1)\n",
    "print(\"Products with Quantity greater than 1:\")\n",
    "quantity_products.show()  # Display the filtered DataFrame"
   ]
  },
  {
   "cell_type": "markdown",
   "id": "9880b1db-aa04-4f8c-9feb-cb771f5af2b7",
   "metadata": {},
   "source": [
    "### Aggregation:"
   ]
  },
  {
   "cell_type": "code",
   "execution_count": 18,
   "id": "7dbe32db-372f-46ed-83b1-663bffe1cc02",
   "metadata": {
    "tags": []
   },
   "outputs": [
    {
     "name": "stdout",
     "output_type": "stream",
     "text": [
      "Total revenue per OrderID:\n",
      "+-------+------------+\n",
      "|OrderID|TotalRevenue|\n",
      "+-------+------------+\n",
      "| ORD001|      1200.0|\n",
      "| ORD001|        51.0|\n",
      "| ORD002|       850.0|\n",
      "| ORD003|        75.0|\n",
      "| ORD003|       49.99|\n",
      "| ORD004|      1200.0|\n",
      "| ORD004|       300.0|\n",
      "| ORD005|      199.99|\n",
      "| ORD006|       150.0|\n",
      "| ORD006|        25.5|\n",
      "| ORD007|       220.0|\n",
      "| ORD008|      299.99|\n",
      "| ORD009|       850.0|\n",
      "| ORD010|       150.0|\n",
      "| ORD011|      1200.0|\n",
      "| ORD011|       49.99|\n",
      "| ORD012|      199.99|\n",
      "| ORD013|        76.5|\n",
      "| ORD014|       300.0|\n",
      "| ORD015|       150.0|\n",
      "+-------+------------+\n",
      "only showing top 20 rows\n",
      "\n"
     ]
    }
   ],
   "source": [
    "# Calculate the total revenue per OrderID (Quantity * UnitPrice).\n",
    "total_revenue = df_list.withColumn(\"TotalRevenue\", col(\"Quantity\") * col(\"UnitPrice\"))\n",
    "print(\"Total revenue per OrderID:\")\n",
    "total_revenue.select(\"OrderID\", \"TotalRevenue\").show()  # Display the total revenue DataFrame\n"
   ]
  },
  {
   "cell_type": "code",
   "execution_count": 20,
   "id": "83ba1db1-7339-4344-8937-59e28a6edda5",
   "metadata": {
    "tags": []
   },
   "outputs": [
    {
     "name": "stdout",
     "output_type": "stream",
     "text": [
      "Total number of items sold for each ProductID:\n"
     ]
    },
    {
     "name": "stderr",
     "output_type": "stream",
     "text": [
      "[Stage 13:=============================>                            (1 + 1) / 2]\r"
     ]
    },
    {
     "name": "stdout",
     "output_type": "stream",
     "text": [
      "+---------+--------------+\n",
      "|ProductID|TotalItemsSold|\n",
      "+---------+--------------+\n",
      "|  PROD005|             2|\n",
      "|  PROD008|             2|\n",
      "|  PROD007|             2|\n",
      "|  PROD009|             2|\n",
      "|  PROD004|             3|\n",
      "|  PROD001|             3|\n",
      "|  PROD003|             6|\n",
      "|  PROD006|             2|\n",
      "|  PROD002|             2|\n",
      "|  PROD010|             2|\n",
      "+---------+--------------+\n",
      "\n"
     ]
    },
    {
     "name": "stderr",
     "output_type": "stream",
     "text": [
      "                                                                                \r"
     ]
    }
   ],
   "source": [
    "# calculate the total number of items sold for each ProductID\n",
    "total_item_sold = df_list.groupBy(\"ProductID\").sum(\"Quantity\").withColumnRenamed(\"sum(Quantity)\", \"TotalItemsSold\")\n",
    "print(\"Total number of items sold for each ProductID:\")\n",
    "total_item_sold.show()  # Display the total items sold DataFrame"
   ]
  },
  {
   "cell_type": "code",
   "execution_count": 21,
   "id": "35c33747-ebcf-449e-9aa7-e70e1c1005eb",
   "metadata": {
    "tags": []
   },
   "outputs": [
    {
     "name": "stdout",
     "output_type": "stream",
     "text": [
      "Average UnitPrice per Country:\n"
     ]
    },
    {
     "name": "stderr",
     "output_type": "stream",
     "text": [
      "[Stage 16:=============================>                            (1 + 1) / 2]\r"
     ]
    },
    {
     "name": "stdout",
     "output_type": "stream",
     "text": [
      "+---------+------------------+\n",
      "|  Country|  AverageUnitPrice|\n",
      "+---------+------------------+\n",
      "|   Canada| 406.6666666666667|\n",
      "|       UK|             505.0|\n",
      "|      USA|365.14799999999997|\n",
      "|Australia|            249.99|\n",
      "|  Germany|            299.99|\n",
      "|    Japan|            199.99|\n",
      "|   France|              75.0|\n",
      "+---------+------------------+\n",
      "\n"
     ]
    },
    {
     "name": "stderr",
     "output_type": "stream",
     "text": [
      "                                                                                \r"
     ]
    }
   ],
   "source": [
    "# Find the average UnitPrice per Country\n",
    "avg_unit_price = df_list.groupBy(\"Country\").avg(\"UnitPrice\").withColumnRenamed(\"avg(UnitPrice)\", \"AverageUnitPrice\")\n",
    "print(\"Average UnitPrice per Country:\")\n",
    "avg_unit_price.show()  # Display the average UnitPrice per Country DataFrame"
   ]
  },
  {
   "cell_type": "code",
   "execution_count": 22,
   "id": "1482cc9b-8839-481d-8d72-5f22ee66521f",
   "metadata": {
    "tags": []
   },
   "outputs": [
    {
     "name": "stdout",
     "output_type": "stream",
     "text": [
      "Number of unique customers: 10\n"
     ]
    }
   ],
   "source": [
    "# Count the number of unique customers\n",
    "unique_customers = df_list.select(\"CustomerID\").distinct().count()\n",
    "print(\"Number of unique customers:\", unique_customers)  # Display the count of unique customers"
   ]
  },
  {
   "cell_type": "code",
   "execution_count": 25,
   "id": "8470020f-660c-443f-8007-0f5003ec3bf8",
   "metadata": {
    "tags": []
   },
   "outputs": [
    {
     "name": "stdout",
     "output_type": "stream",
     "text": [
      "Top 5 best-selling products:\n",
      "+---------+------------+------------+-------------+\n",
      "|ProductID| ProductName|TotalRevenue|TotalQuantity|\n",
      "+---------+------------+------------+-------------+\n",
      "|  PROD003|   Mouse XYZ|        76.5|            6|\n",
      "|  PROD001|    Laptop A|      3600.0|            3|\n",
      "|  PROD004|Keyboard Pro|       150.0|            3|\n",
      "|  PROD006|Monitor 27in|       600.0|            2|\n",
      "|  PROD005|   Webcam HD|       99.98|            2|\n",
      "+---------+------------+------------+-------------+\n",
      "\n"
     ]
    }
   ],
   "source": [
    "# Find the top 5 best-selling products by total quantity or total revenue\n",
    "\n",
    "top_selling_products = (\n",
    "    df_list.groupBy(\"ProductID\", \"ProductName\")\n",
    "    .agg({\"Quantity\": \"sum\", \"UnitPrice\": \"sum\"})\n",
    "    .withColumnRenamed(\"sum(Quantity)\", \"TotalQuantity\")\n",
    "    .withColumnRenamed(\"sum(UnitPrice)\", \"TotalRevenue\")\n",
    "    .orderBy(desc(\"TotalQuantity\"))\n",
    "    .limit(5)\n",
    ")\n",
    "print(\"Top 5 best-selling products:\")\n",
    "top_selling_products.show()  # Display the top-selling products DataFrame"
   ]
  },
  {
   "cell_type": "markdown",
   "id": "61a61b4b-bfc0-4ad7-9965-1ad7a7db02be",
   "metadata": {},
   "source": [
    "### Grouping"
   ]
  },
  {
   "cell_type": "code",
   "execution_count": 26,
   "id": "97521ccc-d8f3-4713-acec-8436b9858518",
   "metadata": {
    "tags": []
   },
   "outputs": [
    {
     "name": "stdout",
     "output_type": "stream",
     "text": [
      "Customer spending and order count:\n"
     ]
    },
    {
     "name": "stderr",
     "output_type": "stream",
     "text": [
      "[Stage 28:=============================>                            (1 + 1) / 2]\r"
     ]
    },
    {
     "name": "stdout",
     "output_type": "stream",
     "text": [
      "+----------+-------------+--------------+\n",
      "|CustomerID|TotalSpending|NumberOfOrders|\n",
      "+----------+-------------+--------------+\n",
      "|   CUST103|       1720.0|             3|\n",
      "|   CUST102|       1220.0|             3|\n",
      "|   CUST105|        175.5|             2|\n",
      "|   CUST101|      2225.99|             6|\n",
      "|   CUST104|       499.98|             2|\n",
      "|   CUST107|         75.0|             1|\n",
      "|   CUST109|       199.99|             1|\n",
      "|   CUST106|       299.99|             1|\n",
      "|   CUST110|        300.0|             1|\n",
      "|   CUST108|      1249.99|             2|\n",
      "+----------+-------------+--------------+\n",
      "\n"
     ]
    },
    {
     "name": "stderr",
     "output_type": "stream",
     "text": [
      "                                                                                \r"
     ]
    }
   ],
   "source": [
    "# Group by CustomerID to see each customer's total spending or number of orders\n",
    "customer_spending = (\n",
    "    df_list.groupBy(\"CustomerID\")\n",
    "    .agg({\"UnitPrice\": \"sum\", \"OrderID\": \"count\"})\n",
    "    .withColumnRenamed(\"sum(UnitPrice)\", \"TotalSpending\")\n",
    "    .withColumnRenamed(\"count(OrderID)\", \"NumberOfOrders\")\n",
    ")\n",
    "print(\"Customer spending and order count:\")\n",
    "customer_spending.show()  # Display the customer spending and order count DataFrame"
   ]
  },
  {
   "cell_type": "code",
   "execution_count": 27,
   "id": "58e5bed1-cbf5-488d-b23f-dae99ad63e39",
   "metadata": {
    "tags": []
   },
   "outputs": [
    {
     "name": "stdout",
     "output_type": "stream",
     "text": [
      "Product performance:\n",
      "+----------------+----------------+-----------------+\n",
      "|     ProductName|AverageUnitPrice|TotalQuantitySold|\n",
      "+----------------+----------------+-----------------+\n",
      "|   Printer Laser|           220.0|                2|\n",
      "|    Smartphone B|           850.0|                2|\n",
      "|    Monitor 27in|           300.0|                2|\n",
      "|External SSD 1TB|           150.0|                2|\n",
      "|    Keyboard Pro|            75.0|                3|\n",
      "|  Headphones ANC|          199.99|                2|\n",
      "|        Laptop A|          1200.0|                3|\n",
      "|       Webcam HD|           49.99|                2|\n",
      "|       Mouse XYZ|            25.5|                6|\n",
      "|    Smartwatch X|          299.99|                2|\n",
      "+----------------+----------------+-----------------+\n",
      "\n"
     ]
    }
   ],
   "source": [
    "# Group by ProductName to get insights into individual product performance.\n",
    "product_performance = (\n",
    "    df_list.groupBy(\"ProductName\")\n",
    "    .agg({\"Quantity\": \"sum\", \"UnitPrice\": \"avg\"})\n",
    "    .withColumnRenamed(\"sum(Quantity)\", \"TotalQuantitySold\")\n",
    "    .withColumnRenamed(\"avg(UnitPrice)\", \"AverageUnitPrice\")\n",
    ")\n",
    "print(\"Product performance:\")\n",
    "product_performance.show()  # Display the product performance DataFrame"
   ]
  },
  {
   "cell_type": "code",
   "execution_count": 28,
   "id": "1216d5b4-7b8e-4a94-9194-e90260ded181",
   "metadata": {
    "tags": []
   },
   "outputs": [
    {
     "name": "stdout",
     "output_type": "stream",
     "text": [
      "Daily sales trends:\n"
     ]
    },
    {
     "name": "stderr",
     "output_type": "stream",
     "text": [
      "[Stage 34:=============================>                            (1 + 1) / 2]\r"
     ]
    },
    {
     "name": "stdout",
     "output_type": "stream",
     "text": [
      "+----------+------------------+-----------------+\n",
      "| OrderDate|      TotalRevenue|TotalQuantitySold|\n",
      "+----------+------------------+-----------------+\n",
      "|2024-01-18|            1500.0|                2|\n",
      "|2024-01-19|            199.99|                1|\n",
      "|2024-01-15|            1225.5|                3|\n",
      "|2024-01-20|             175.5|                2|\n",
      "|2024-01-16|             850.0|                1|\n",
      "|2024-01-21|             220.0|                1|\n",
      "|2024-01-17|124.99000000000001|                2|\n",
      "|2024-01-26|            199.99|                1|\n",
      "|2024-01-31|            299.99|                1|\n",
      "|2024-01-29|             150.0|                1|\n",
      "|2024-01-24|              75.0|                2|\n",
      "|2024-01-25|           1249.99|                2|\n",
      "|2024-01-23|             850.0|                1|\n",
      "|2024-01-27|              25.5|                3|\n",
      "|2024-01-30|             220.0|                1|\n",
      "|2024-01-28|             300.0|                1|\n",
      "|2024-01-22|            299.99|                1|\n",
      "+----------+------------------+-----------------+\n",
      "\n"
     ]
    },
    {
     "name": "stderr",
     "output_type": "stream",
     "text": [
      "                                                                                \r"
     ]
    }
   ],
   "source": [
    "# Group by OrderDate to analyze daily sales trends\n",
    "daily_sales_trends = (\n",
    "    df_list.groupBy(\"OrderDate\")\n",
    "    .agg({\"Quantity\": \"sum\", \"UnitPrice\": \"sum\"})\n",
    "    .withColumnRenamed(\"sum(Quantity)\", \"TotalQuantitySold\")\n",
    "    .withColumnRenamed(\"sum(UnitPrice)\", \"TotalRevenue\")\n",
    ")\n",
    "print(\"Daily sales trends:\")\n",
    "daily_sales_trends.show()  # Display the daily sales trends DataFrame"
   ]
  },
  {
   "cell_type": "markdown",
   "id": "2b1f498e-0fd9-43c6-884e-e724556723dd",
   "metadata": {},
   "source": [
    "### Adding/Modifying Columns"
   ]
  },
  {
   "cell_type": "code",
   "execution_count": 30,
   "id": "ce17731c-c4b8-415f-9203-2542975ff2f5",
   "metadata": {
    "tags": []
   },
   "outputs": [
    {
     "name": "stdout",
     "output_type": "stream",
     "text": [
      "DataFrame with TotalAmount column:\n",
      "+---------+----------+----------+-------+---------+----------------+--------+---------+-----------+\n",
      "|  Country|CustomerID| OrderDate|OrderID|ProductID|     ProductName|Quantity|UnitPrice|TotalAmount|\n",
      "+---------+----------+----------+-------+---------+----------------+--------+---------+-----------+\n",
      "|      USA|   CUST101|2024-01-15| ORD001|  PROD001|        Laptop A|       1|   1200.0|     1200.0|\n",
      "|      USA|   CUST101|2024-01-15| ORD001|  PROD003|       Mouse XYZ|       2|     25.5|       51.0|\n",
      "|   Canada|   CUST102|2024-01-16| ORD002|  PROD002|    Smartphone B|       1|    850.0|      850.0|\n",
      "|      USA|   CUST101|2024-01-17| ORD003|  PROD004|    Keyboard Pro|       1|     75.0|       75.0|\n",
      "|      USA|   CUST101|2024-01-17| ORD003|  PROD005|       Webcam HD|       1|    49.99|      49.99|\n",
      "|       UK|   CUST103|2024-01-18| ORD004|  PROD001|        Laptop A|       1|   1200.0|     1200.0|\n",
      "|       UK|   CUST103|2024-01-18| ORD004|  PROD006|    Monitor 27in|       1|    300.0|      300.0|\n",
      "|Australia|   CUST104|2024-01-19| ORD005|  PROD007|  Headphones ANC|       1|   199.99|     199.99|\n",
      "|      USA|   CUST105|2024-01-20| ORD006|  PROD008|External SSD 1TB|       1|    150.0|      150.0|\n",
      "|      USA|   CUST105|2024-01-20| ORD006|  PROD003|       Mouse XYZ|       1|     25.5|       25.5|\n",
      "|   Canada|   CUST102|2024-01-21| ORD007|  PROD009|   Printer Laser|       1|    220.0|      220.0|\n",
      "|  Germany|   CUST106|2024-01-22| ORD008|  PROD010|    Smartwatch X|       1|   299.99|     299.99|\n",
      "|      USA|   CUST101|2024-01-23| ORD009|  PROD002|    Smartphone B|       1|    850.0|      850.0|\n",
      "|   France|   CUST107|2024-01-24| ORD010|  PROD004|    Keyboard Pro|       2|     75.0|      150.0|\n",
      "|      USA|   CUST108|2024-01-25| ORD011|  PROD001|        Laptop A|       1|   1200.0|     1200.0|\n",
      "|      USA|   CUST108|2024-01-25| ORD011|  PROD005|       Webcam HD|       1|    49.99|      49.99|\n",
      "|    Japan|   CUST109|2024-01-26| ORD012|  PROD007|  Headphones ANC|       1|   199.99|     199.99|\n",
      "|      USA|   CUST101|2024-01-27| ORD013|  PROD003|       Mouse XYZ|       3|     25.5|       76.5|\n",
      "|       UK|   CUST110|2024-01-28| ORD014|  PROD006|    Monitor 27in|       1|    300.0|      300.0|\n",
      "|   Canada|   CUST102|2024-01-29| ORD015|  PROD008|External SSD 1TB|       1|    150.0|      150.0|\n",
      "+---------+----------+----------+-------+---------+----------------+--------+---------+-----------+\n",
      "only showing top 20 rows\n",
      "\n"
     ]
    }
   ],
   "source": [
    "# Add a new column TotalAmount (Quantity * UnitPrice)\n",
    "df_list = df_list.withColumn(\"TotalAmount\", col(\"Quantity\") * col(\"UnitPrice\"))\n",
    "print(\"DataFrame with TotalAmount column:\")\n",
    "df_list.show()"
   ]
  },
  {
   "cell_type": "code",
   "execution_count": 31,
   "id": "6f120d8f-83e8-4624-91f3-10fd646738b6",
   "metadata": {
    "tags": []
   },
   "outputs": [
    {
     "name": "stdout",
     "output_type": "stream",
     "text": [
      "DataFrame with Month and Year columns:\n",
      "+---------+----------+----------+-------+---------+----------------+--------+---------+-----------+-----+----+\n",
      "|  Country|CustomerID| OrderDate|OrderID|ProductID|     ProductName|Quantity|UnitPrice|TotalAmount|Month|Year|\n",
      "+---------+----------+----------+-------+---------+----------------+--------+---------+-----------+-----+----+\n",
      "|      USA|   CUST101|2024-01-15| ORD001|  PROD001|        Laptop A|       1|   1200.0|     1200.0|    1|2024|\n",
      "|      USA|   CUST101|2024-01-15| ORD001|  PROD003|       Mouse XYZ|       2|     25.5|       51.0|    1|2024|\n",
      "|   Canada|   CUST102|2024-01-16| ORD002|  PROD002|    Smartphone B|       1|    850.0|      850.0|    1|2024|\n",
      "|      USA|   CUST101|2024-01-17| ORD003|  PROD004|    Keyboard Pro|       1|     75.0|       75.0|    1|2024|\n",
      "|      USA|   CUST101|2024-01-17| ORD003|  PROD005|       Webcam HD|       1|    49.99|      49.99|    1|2024|\n",
      "|       UK|   CUST103|2024-01-18| ORD004|  PROD001|        Laptop A|       1|   1200.0|     1200.0|    1|2024|\n",
      "|       UK|   CUST103|2024-01-18| ORD004|  PROD006|    Monitor 27in|       1|    300.0|      300.0|    1|2024|\n",
      "|Australia|   CUST104|2024-01-19| ORD005|  PROD007|  Headphones ANC|       1|   199.99|     199.99|    1|2024|\n",
      "|      USA|   CUST105|2024-01-20| ORD006|  PROD008|External SSD 1TB|       1|    150.0|      150.0|    1|2024|\n",
      "|      USA|   CUST105|2024-01-20| ORD006|  PROD003|       Mouse XYZ|       1|     25.5|       25.5|    1|2024|\n",
      "|   Canada|   CUST102|2024-01-21| ORD007|  PROD009|   Printer Laser|       1|    220.0|      220.0|    1|2024|\n",
      "|  Germany|   CUST106|2024-01-22| ORD008|  PROD010|    Smartwatch X|       1|   299.99|     299.99|    1|2024|\n",
      "|      USA|   CUST101|2024-01-23| ORD009|  PROD002|    Smartphone B|       1|    850.0|      850.0|    1|2024|\n",
      "|   France|   CUST107|2024-01-24| ORD010|  PROD004|    Keyboard Pro|       2|     75.0|      150.0|    1|2024|\n",
      "|      USA|   CUST108|2024-01-25| ORD011|  PROD001|        Laptop A|       1|   1200.0|     1200.0|    1|2024|\n",
      "|      USA|   CUST108|2024-01-25| ORD011|  PROD005|       Webcam HD|       1|    49.99|      49.99|    1|2024|\n",
      "|    Japan|   CUST109|2024-01-26| ORD012|  PROD007|  Headphones ANC|       1|   199.99|     199.99|    1|2024|\n",
      "|      USA|   CUST101|2024-01-27| ORD013|  PROD003|       Mouse XYZ|       3|     25.5|       76.5|    1|2024|\n",
      "|       UK|   CUST110|2024-01-28| ORD014|  PROD006|    Monitor 27in|       1|    300.0|      300.0|    1|2024|\n",
      "|   Canada|   CUST102|2024-01-29| ORD015|  PROD008|External SSD 1TB|       1|    150.0|      150.0|    1|2024|\n",
      "+---------+----------+----------+-------+---------+----------------+--------+---------+-----------+-----+----+\n",
      "only showing top 20 rows\n",
      "\n"
     ]
    }
   ],
   "source": [
    "# Add a Month or Year column extracted from OrderDate\n",
    "from pyspark.sql.functions import month, year\n",
    "df_list = df_list.withColumn(\"Month\", month(col(\"OrderDate\"))).withColumn(\"Year\", year(col(\"OrderDate\")))\n",
    "print(\"DataFrame with Month and Year columns:\")\n",
    "df_list.show()"
   ]
  },
  {
   "cell_type": "markdown",
   "id": "0964dd52-d365-4119-8507-9a80f952255b",
   "metadata": {},
   "source": [
    "### Sorting"
   ]
  },
  {
   "cell_type": "code",
   "execution_count": 32,
   "id": "cb7fa246-5b9b-42fe-9ff1-aa75ffad3b9d",
   "metadata": {
    "tags": []
   },
   "outputs": [
    {
     "name": "stdout",
     "output_type": "stream",
     "text": [
      "Sorted orders:\n",
      "+---------+----------+----------+-------+---------+----------------+--------+---------+-----------+-----+----+\n",
      "|  Country|CustomerID| OrderDate|OrderID|ProductID|     ProductName|Quantity|UnitPrice|TotalAmount|Month|Year|\n",
      "+---------+----------+----------+-------+---------+----------------+--------+---------+-----------+-----+----+\n",
      "|      USA|   CUST101|2024-01-15| ORD001|  PROD003|       Mouse XYZ|       2|     25.5|       51.0|    1|2024|\n",
      "|      USA|   CUST101|2024-01-15| ORD001|  PROD001|        Laptop A|       1|   1200.0|     1200.0|    1|2024|\n",
      "|   Canada|   CUST102|2024-01-16| ORD002|  PROD002|    Smartphone B|       1|    850.0|      850.0|    1|2024|\n",
      "|      USA|   CUST101|2024-01-17| ORD003|  PROD005|       Webcam HD|       1|    49.99|      49.99|    1|2024|\n",
      "|      USA|   CUST101|2024-01-17| ORD003|  PROD004|    Keyboard Pro|       1|     75.0|       75.0|    1|2024|\n",
      "|       UK|   CUST103|2024-01-18| ORD004|  PROD006|    Monitor 27in|       1|    300.0|      300.0|    1|2024|\n",
      "|       UK|   CUST103|2024-01-18| ORD004|  PROD001|        Laptop A|       1|   1200.0|     1200.0|    1|2024|\n",
      "|Australia|   CUST104|2024-01-19| ORD005|  PROD007|  Headphones ANC|       1|   199.99|     199.99|    1|2024|\n",
      "|      USA|   CUST105|2024-01-20| ORD006|  PROD003|       Mouse XYZ|       1|     25.5|       25.5|    1|2024|\n",
      "|      USA|   CUST105|2024-01-20| ORD006|  PROD008|External SSD 1TB|       1|    150.0|      150.0|    1|2024|\n",
      "|   Canada|   CUST102|2024-01-21| ORD007|  PROD009|   Printer Laser|       1|    220.0|      220.0|    1|2024|\n",
      "|  Germany|   CUST106|2024-01-22| ORD008|  PROD010|    Smartwatch X|       1|   299.99|     299.99|    1|2024|\n",
      "|      USA|   CUST101|2024-01-23| ORD009|  PROD002|    Smartphone B|       1|    850.0|      850.0|    1|2024|\n",
      "|   France|   CUST107|2024-01-24| ORD010|  PROD004|    Keyboard Pro|       2|     75.0|      150.0|    1|2024|\n",
      "|      USA|   CUST108|2024-01-25| ORD011|  PROD005|       Webcam HD|       1|    49.99|      49.99|    1|2024|\n",
      "|      USA|   CUST108|2024-01-25| ORD011|  PROD001|        Laptop A|       1|   1200.0|     1200.0|    1|2024|\n",
      "|    Japan|   CUST109|2024-01-26| ORD012|  PROD007|  Headphones ANC|       1|   199.99|     199.99|    1|2024|\n",
      "|      USA|   CUST101|2024-01-27| ORD013|  PROD003|       Mouse XYZ|       3|     25.5|       76.5|    1|2024|\n",
      "|       UK|   CUST110|2024-01-28| ORD014|  PROD006|    Monitor 27in|       1|    300.0|      300.0|    1|2024|\n",
      "|   Canada|   CUST102|2024-01-29| ORD015|  PROD008|External SSD 1TB|       1|    150.0|      150.0|    1|2024|\n",
      "+---------+----------+----------+-------+---------+----------------+--------+---------+-----------+-----+----+\n",
      "only showing top 20 rows\n",
      "\n"
     ]
    }
   ],
   "source": [
    "# ort orders by OrderDate or TotalAmount\n",
    "sorted_orders = df_list.sort(\"OrderDate\", \"TotalAmount\")\n",
    "print(\"Sorted orders:\")\n",
    "sorted_orders.show()  # Display the sorted orders DataFrame"
   ]
  },
  {
   "cell_type": "code",
   "execution_count": null,
   "id": "f974c4a3-fa48-47f8-830c-be9bd08c9c0e",
   "metadata": {},
   "outputs": [],
   "source": []
  }
 ],
 "metadata": {
  "kernelspec": {
   "display_name": ".venv",
   "language": "python",
   "name": "python3"
  },
  "language_info": {
   "codemirror_mode": {
    "name": "ipython",
    "version": 3
   },
   "file_extension": ".py",
   "mimetype": "text/x-python",
   "name": "python",
   "nbconvert_exporter": "python",
   "pygments_lexer": "ipython3",
   "version": "3.13.2"
  }
 },
 "nbformat": 4,
 "nbformat_minor": 5
}
