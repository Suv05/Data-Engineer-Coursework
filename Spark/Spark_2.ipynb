{
 "cells": [
  {
   "cell_type": "code",
   "execution_count": 7,
   "id": "68487419",
   "metadata": {},
   "outputs": [],
   "source": [
    "from pyspark.sql import SparkSession\n",
    "from pyspark.sql.functions import col,to_date"
   ]
  },
  {
   "cell_type": "code",
   "execution_count": 9,
   "id": "386a93ab",
   "metadata": {},
   "outputs": [],
   "source": [
    "spark=SparkSession.builder.appName(\"Rdd_operations\").getOrCreate()"
   ]
  },
  {
   "cell_type": "markdown",
   "id": "107e7f36",
   "metadata": {},
   "source": [
    "# Dummy Data Set"
   ]
  },
  {
   "cell_type": "code",
   "execution_count": 5,
   "id": "e720455f",
   "metadata": {},
   "outputs": [],
   "source": [
    "retail_orders_data = [\n",
    "    {\"OrderID\": \"ORD001\", \"CustomerID\": \"CUST101\", \"ProductID\": \"PROD001\", \"ProductName\": \"Laptop A\", \"Quantity\": 1, \"UnitPrice\": 1200.00, \"OrderDate\": \"2024-01-15\", \"Country\": \"USA\"},\n",
    "    {\"OrderID\": \"ORD001\", \"CustomerID\": \"CUST101\", \"ProductID\": \"PROD003\", \"ProductName\": \"Mouse XYZ\", \"Quantity\": 2, \"UnitPrice\": 25.50, \"OrderDate\": \"2024-01-15\", \"Country\": \"USA\"},\n",
    "    {\"OrderID\": \"ORD002\", \"CustomerID\": \"CUST102\", \"ProductID\": \"PROD002\", \"ProductName\": \"Smartphone B\", \"Quantity\": 1, \"UnitPrice\": 850.00, \"OrderDate\": \"2024-01-16\", \"Country\": \"Canada\"},\n",
    "    {\"OrderID\": \"ORD003\", \"CustomerID\": \"CUST101\", \"ProductID\": \"PROD004\", \"ProductName\": \"Keyboard Pro\", \"Quantity\": 1, \"UnitPrice\": 75.00, \"OrderDate\": \"2024-01-17\", \"Country\": \"USA\"},\n",
    "    {\"OrderID\": \"ORD003\", \"CustomerID\": \"CUST101\", \"ProductID\": \"PROD005\", \"ProductName\": \"Webcam HD\", \"Quantity\": 1, \"UnitPrice\": 49.99, \"OrderDate\": \"2024-01-17\", \"Country\": \"USA\"},\n",
    "    {\"OrderID\": \"ORD004\", \"CustomerID\": \"CUST103\", \"ProductID\": \"PROD001\", \"ProductName\": \"Laptop A\", \"Quantity\": 1, \"UnitPrice\": 1200.00, \"OrderDate\": \"2024-01-18\", \"Country\": \"UK\"},\n",
    "    {\"OrderID\": \"ORD004\", \"CustomerID\": \"CUST103\", \"ProductID\": \"PROD006\", \"ProductName\": \"Monitor 27in\", \"Quantity\": 1, \"UnitPrice\": 300.00, \"OrderDate\": \"2024-01-18\", \"Country\": \"UK\"},\n",
    "    {\"OrderID\": \"ORD005\", \"CustomerID\": \"CUST104\", \"ProductID\": \"PROD007\", \"ProductName\": \"Headphones ANC\", \"Quantity\": 1, \"UnitPrice\": 199.99, \"OrderDate\": \"2024-01-19\", \"Country\": \"Australia\"},\n",
    "    {\"OrderID\": \"ORD006\", \"CustomerID\": \"CUST105\", \"ProductID\": \"PROD008\", \"ProductName\": \"External SSD 1TB\", \"Quantity\": 1, \"UnitPrice\": 150.00, \"OrderDate\": \"2024-01-20\", \"Country\": \"USA\"},\n",
    "    {\"OrderID\": \"ORD006\", \"CustomerID\": \"CUST105\", \"ProductID\": \"PROD003\", \"ProductName\": \"Mouse XYZ\", \"Quantity\": 1, \"UnitPrice\": 25.50, \"OrderDate\": \"2024-01-20\", \"Country\": \"USA\"},\n",
    "    {\"OrderID\": \"ORD007\", \"CustomerID\": \"CUST102\", \"ProductID\": \"PROD009\", \"ProductName\": \"Printer Laser\", \"Quantity\": 1, \"UnitPrice\": 220.00, \"OrderDate\": \"2024-01-21\", \"Country\": \"Canada\"},\n",
    "    {\"OrderID\": \"ORD008\", \"CustomerID\": \"CUST106\", \"ProductID\": \"PROD010\", \"ProductName\": \"Smartwatch X\", \"Quantity\": 1, \"UnitPrice\": 299.99, \"OrderDate\": \"2024-01-22\", \"Country\": \"Germany\"},\n",
    "    {\"OrderID\": \"ORD009\", \"CustomerID\": \"CUST101\", \"ProductID\": \"PROD002\", \"ProductName\": \"Smartphone B\", \"Quantity\": 1, \"UnitPrice\": 850.00, \"OrderDate\": \"2024-01-23\", \"Country\": \"USA\"},\n",
    "    {\"OrderID\": \"ORD010\", \"CustomerID\": \"CUST107\", \"ProductID\": \"PROD004\", \"ProductName\": \"Keyboard Pro\", \"Quantity\": 2, \"UnitPrice\": 75.00, \"OrderDate\": \"2024-01-24\", \"Country\": \"France\"},\n",
    "    {\"OrderID\": \"ORD011\", \"CustomerID\": \"CUST108\", \"ProductID\": \"PROD001\", \"ProductName\": \"Laptop A\", \"Quantity\": 1, \"UnitPrice\": 1200.00, \"OrderDate\": \"2024-01-25\", \"Country\": \"USA\"},\n",
    "    {\"OrderID\": \"ORD011\", \"CustomerID\": \"CUST108\", \"ProductID\": \"PROD005\", \"ProductName\": \"Webcam HD\", \"Quantity\": 1, \"UnitPrice\": 49.99, \"OrderDate\": \"2024-01-25\", \"Country\": \"USA\"},\n",
    "    {\"OrderID\": \"ORD012\", \"CustomerID\": \"CUST109\", \"ProductID\": \"PROD007\", \"ProductName\": \"Headphones ANC\", \"Quantity\": 1, \"UnitPrice\": 199.99, \"OrderDate\": \"2024-01-26\", \"Country\": \"Japan\"},\n",
    "    {\"OrderID\": \"ORD013\", \"CustomerID\": \"CUST101\", \"ProductID\": \"PROD003\", \"ProductName\": \"Mouse XYZ\", \"Quantity\": 3, \"UnitPrice\": 25.50, \"OrderDate\": \"2024-01-27\", \"Country\": \"USA\"},\n",
    "    {\"OrderID\": \"ORD014\", \"CustomerID\": \"CUST110\", \"ProductID\": \"PROD006\", \"ProductName\": \"Monitor 27in\", \"Quantity\": 1, \"UnitPrice\": 300.00, \"OrderDate\": \"2024-01-28\", \"Country\": \"UK\"},\n",
    "    {\"OrderID\": \"ORD015\", \"CustomerID\": \"CUST102\", \"ProductID\": \"PROD008\", \"ProductName\": \"External SSD 1TB\", \"Quantity\": 1, \"UnitPrice\": 150.00, \"OrderDate\": \"2024-01-29\", \"Country\": \"Canada\"},\n",
    "    {\"OrderID\": \"ORD016\", \"CustomerID\": \"CUST103\", \"ProductID\": \"PROD009\", \"ProductName\": \"Printer Laser\", \"Quantity\": 1, \"UnitPrice\": 220.00, \"OrderDate\": \"2024-01-30\", \"Country\": \"UK\"},\n",
    "    {\"OrderID\": \"ORD017\", \"CustomerID\": \"CUST104\", \"ProductID\": \"PROD010\", \"ProductName\": \"Smartwatch X\", \"Quantity\": 1, \"UnitPrice\": 299.99, \"OrderDate\": \"2024-01-31\", \"Country\": \"Australia\"}\n",
    "]"
   ]
  },
  {
   "cell_type": "code",
   "execution_count": 10,
   "id": "de83bcc9",
   "metadata": {},
   "outputs": [],
   "source": [
    "df_list=spark.createDataFrame(retail_orders_data)"
   ]
  },
  {
   "cell_type": "code",
   "execution_count": 11,
   "id": "d9e72381",
   "metadata": {},
   "outputs": [],
   "source": [
    "# Cast OrderDate to DateType if using this method, as createDataFrame might infer StringType\n",
    "df_list=df_list.withColumn(\"OrderDate\", to_date(col(\"OrderDate\"), \"yyyy-MM-dd\"))"
   ]
  },
  {
   "cell_type": "code",
   "execution_count": 12,
   "id": "cfb90cdc",
   "metadata": {},
   "outputs": [
    {
     "name": "stdout",
     "output_type": "stream",
     "text": [
      "root\n",
      " |-- Country: string (nullable = true)\n",
      " |-- CustomerID: string (nullable = true)\n",
      " |-- OrderDate: date (nullable = true)\n",
      " |-- OrderID: string (nullable = true)\n",
      " |-- ProductID: string (nullable = true)\n",
      " |-- ProductName: string (nullable = true)\n",
      " |-- Quantity: long (nullable = true)\n",
      " |-- UnitPrice: double (nullable = true)\n",
      "\n"
     ]
    }
   ],
   "source": [
    "df_list.printSchema()"
   ]
  },
  {
   "cell_type": "code",
   "execution_count": null,
   "id": "bb83ad75",
   "metadata": {},
   "outputs": [],
   "source": [
    "df_list.show()  # Display the DataFrame without truncating the output"
   ]
  }
 ],
 "metadata": {
  "kernelspec": {
   "display_name": ".venv",
   "language": "python",
   "name": "python3"
  },
  "language_info": {
   "codemirror_mode": {
    "name": "ipython",
    "version": 3
   },
   "file_extension": ".py",
   "mimetype": "text/x-python",
   "name": "python",
   "nbconvert_exporter": "python",
   "pygments_lexer": "ipython3",
   "version": "3.13.2"
  }
 },
 "nbformat": 4,
 "nbformat_minor": 5
}
