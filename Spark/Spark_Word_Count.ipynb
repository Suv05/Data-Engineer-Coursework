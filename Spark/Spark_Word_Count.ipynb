{
 "cells": [
  {
   "cell_type": "markdown",
   "id": "2271f04f-5f44-4177-896d-5e8409707a59",
   "metadata": {},
   "source": [
    "### WORD-COUNT IN SPARK"
   ]
  },
  {
   "cell_type": "code",
   "execution_count": null,
   "id": "51e84415-06ca-415d-8c07-c6a076b7db0b",
   "metadata": {
    "tags": []
   },
   "outputs": [],
   "source": [
    "from pyspark.sql import SparkSession\n",
    "from operator import add"
   ]
  },
  {
   "cell_type": "code",
   "execution_count": 10,
   "id": "1798d976-e009-4a9e-b5e0-ff1e61586aff",
   "metadata": {
    "tags": []
   },
   "outputs": [],
   "source": [
    "spark = SparkSession.builder.appName(\"Word-Count.com\").master(\"yarn\").getOrCreate()\n",
    "sc = spark.sparkContext"
   ]
  },
  {
   "cell_type": "code",
   "execution_count": 11,
   "id": "ca48fc04-9435-4c5d-921a-6b687143006f",
   "metadata": {
    "tags": []
   },
   "outputs": [],
   "source": [
    "# Your data\n",
    "data = ['Goku Vegeta Gohan',\n",
    "            'Goku Frieza Goku', \n",
    "            'Vegeta Goku Frieza Gohan',\n",
    "            'Gohan Frieza Goku Goku']"
   ]
  },
  {
   "cell_type": "code",
   "execution_count": 12,
   "id": "60766f58-1019-44e2-8cdd-8ae9a8a62291",
   "metadata": {
    "tags": []
   },
   "outputs": [],
   "source": [
    "# Create RDD from the data\n",
    "lines_rdd = sc.parallelize(data)"
   ]
  },
  {
   "cell_type": "code",
   "execution_count": 13,
   "id": "1df809fb-e159-4abc-84dc-b7d3fd3b3039",
   "metadata": {
    "tags": []
   },
   "outputs": [],
   "source": [
    "# Split each line into words and flatten\n",
    "words_rdd = lines_rdd.flatMap(lambda line: line.split(' '))"
   ]
  },
  {
   "cell_type": "code",
   "execution_count": 14,
   "id": "29f80bc9-6264-42fe-8238-dfe8add4c645",
   "metadata": {
    "tags": []
   },
   "outputs": [],
   "source": [
    "# Map each word to (word, 1) pairs\n",
    "word_pairs_rdd = words_rdd.map(lambda word: (word, 1))"
   ]
  },
  {
   "cell_type": "code",
   "execution_count": 15,
   "id": "72485950-9770-4c02-9a77-702b9d4193de",
   "metadata": {
    "tags": []
   },
   "outputs": [],
   "source": [
    "# Reduce by key to count occurrences\n",
    "word_counts_rdd = word_pairs_rdd.reduceByKey(add)"
   ]
  },
  {
   "cell_type": "code",
   "execution_count": 16,
   "id": "06e704e9-fa87-46b0-a8f2-c58ed151d3fb",
   "metadata": {
    "tags": []
   },
   "outputs": [
    {
     "name": "stderr",
     "output_type": "stream",
     "text": [
      "[Stage 0:=============================>                             (1 + 1) / 2]\r"
     ]
    },
    {
     "name": "stdout",
     "output_type": "stream",
     "text": [
      "Word Count Results (RDD approach):\n",
      "Goku: 6\n",
      "Vegeta: 2\n",
      "Gohan: 3\n",
      "Frieza: 3\n"
     ]
    },
    {
     "name": "stderr",
     "output_type": "stream",
     "text": [
      "                                                                                \r"
     ]
    }
   ],
   "source": [
    "# Collect results\n",
    "results = word_counts_rdd.collect()\n",
    "\n",
    "print(\"Word Count Results (RDD approach):\")\n",
    "for word, count in results:\n",
    "    print(f\"{word}: {count}\")"
   ]
  },
  {
   "cell_type": "code",
   "execution_count": 17,
   "id": "239e1508-c34a-425c-821f-c00de2f30c71",
   "metadata": {
    "tags": []
   },
   "outputs": [],
   "source": [
    "sc.stop()"
   ]
  }
 ],
 "metadata": {
  "kernelspec": {
   "display_name": "PySpark",
   "language": "python",
   "name": "pyspark"
  },
  "language_info": {
   "codemirror_mode": {
    "name": "ipython",
    "version": 3
   },
   "file_extension": ".py",
   "mimetype": "text/x-python",
   "name": "python",
   "nbconvert_exporter": "python",
   "pygments_lexer": "ipython3",
   "version": "3.11.8"
  }
 },
 "nbformat": 4,
 "nbformat_minor": 5
}
