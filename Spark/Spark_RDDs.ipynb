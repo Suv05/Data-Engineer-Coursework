{
 "cells": [
  {
   "cell_type": "markdown",
   "id": "ab0393e9-0239-4283-b026-5ec9176ba779",
   "metadata": {
    "tags": []
   },
   "source": [
    "# Spark RDDs Operations"
   ]
  },
  {
   "cell_type": "markdown",
   "id": "2c4c1e95-de26-4e66-a2b1-82067466f2e0",
   "metadata": {},
   "source": [
    "### ✅ Step 1: Creating SparkContext"
   ]
  },
  {
   "cell_type": "code",
   "execution_count": 5,
   "id": "fccb20f6-a161-47ea-af88-66e5c1f2e5cb",
   "metadata": {
    "collapsed": true,
    "jupyter": {
     "outputs_hidden": true
    },
    "tags": []
   },
   "outputs": [
    {
     "name": "stderr",
     "output_type": "stream",
     "text": [
      "25/06/24 05:35:27 WARN SparkSession: Using an existing Spark session; only runtime SQL configurations will take effect.\n"
     ]
    }
   ],
   "source": [
    "from pyspark.sql import SparkSession\n",
    "\n",
    "spark = SparkSession.builder \\\n",
    "    .appName(\"RDD_Examples\") \\\n",
    "    .master(\"yarn\") \\\n",
    "    .getOrCreate()\n",
    "\n",
    "sc = spark.sparkContext  # Now get SparkContext safely\n"
   ]
  },
  {
   "cell_type": "markdown",
   "id": "6a5bf0c1-afef-476e-a7e9-264518394777",
   "metadata": {},
   "source": [
    "### ✅ Step 2: Dummy Datasets"
   ]
  },
  {
   "cell_type": "code",
   "execution_count": 6,
   "id": "3a46a6f2-f229-4e73-8983-855fd17ebad0",
   "metadata": {
    "tags": []
   },
   "outputs": [],
   "source": [
    "# Dataset 1: Names\n",
    "rdd1 = sc.parallelize([\"Alice\", \"Bob\", \"Charlie\", \"David\", \"Eve\", \"Frank\"])\n",
    "\n",
    "# Dataset 2: Numbers\n",
    "rdd2 = sc.parallelize([1, 2, 3, 4, 5, 6, 3, 2])\n",
    "\n",
    "# Dataset 3: Key-Value pairs (name, score)\n",
    "rdd_kv = sc.parallelize([\n",
    "    (\"Alice\", 85),\n",
    "    (\"Bob\", 90),\n",
    "    (\"Charlie\", 70),\n",
    "    (\"Alice\", 95),\n",
    "    (\"Bob\", 88)\n",
    "])\n"
   ]
  },
  {
   "cell_type": "markdown",
   "id": "88ac7d3d-0747-455c-ad99-85c0fe969fc2",
   "metadata": {},
   "source": [
    "### 🔄 Transformations"
   ]
  },
  {
   "cell_type": "markdown",
   "id": "547a731d-ef61-4a02-af08-22ba6ce45f99",
   "metadata": {},
   "source": [
    "##### 1 - Map"
   ]
  },
  {
   "cell_type": "code",
   "execution_count": 7,
   "id": "e27452e5-4829-4bc3-883f-5c460b705d62",
   "metadata": {
    "tags": []
   },
   "outputs": [
    {
     "name": "stderr",
     "output_type": "stream",
     "text": [
      "                                                                                \r"
     ]
    },
    {
     "data": {
      "text/plain": [
       "[1, 4, 9, 16, 25, 36, 9, 4]"
      ]
     },
     "execution_count": 7,
     "metadata": {},
     "output_type": "execute_result"
    }
   ],
   "source": [
    "rdd2.map(lambda x: x*x).collect()"
   ]
  },
  {
   "cell_type": "markdown",
   "id": "9c0d9186-1f95-4549-857a-7896354a9bfa",
   "metadata": {},
   "source": [
    "##### 2. FlatMap"
   ]
  },
  {
   "cell_type": "code",
   "execution_count": 8,
   "id": "e04e9b82-eae6-4929-aa6a-ee94ca66668b",
   "metadata": {
    "tags": []
   },
   "outputs": [
    {
     "name": "stderr",
     "output_type": "stream",
     "text": [
      "                                                                                \r"
     ]
    },
    {
     "data": {
      "text/plain": [
       "['A',\n",
       " 'l',\n",
       " 'i',\n",
       " 'c',\n",
       " 'e',\n",
       " 'B',\n",
       " 'o',\n",
       " 'b',\n",
       " 'C',\n",
       " 'h',\n",
       " 'a',\n",
       " 'r',\n",
       " 'l',\n",
       " 'i',\n",
       " 'e',\n",
       " 'D',\n",
       " 'a',\n",
       " 'v',\n",
       " 'i',\n",
       " 'd',\n",
       " 'E',\n",
       " 'v',\n",
       " 'e',\n",
       " 'F',\n",
       " 'r',\n",
       " 'a',\n",
       " 'n',\n",
       " 'k']"
      ]
     },
     "execution_count": 8,
     "metadata": {},
     "output_type": "execute_result"
    }
   ],
   "source": [
    "rdd1.flatMap(lambda x: list(x)).collect()"
   ]
  },
  {
   "cell_type": "markdown",
   "id": "f1848a01-924b-4f22-8fe4-b8b0873825d6",
   "metadata": {},
   "source": [
    "##### 3. MapPartitions"
   ]
  },
  {
   "cell_type": "code",
   "execution_count": 12,
   "id": "d7d70bf8-1c2d-46a4-96bc-6ff2f8117d20",
   "metadata": {
    "tags": []
   },
   "outputs": [
    {
     "data": {
      "text/plain": [
       "[10, 16]"
      ]
     },
     "execution_count": 12,
     "metadata": {},
     "output_type": "execute_result"
    }
   ],
   "source": [
    "def process_partition(iterator):\n",
    "    yield sum(iterator)\n",
    "rdd2.mapPartitions(process_partition).collect()"
   ]
  },
  {
   "cell_type": "markdown",
   "id": "f2dcf51a-9147-4850-b7c8-c4bcebfcba0c",
   "metadata": {},
   "source": [
    "##### 4. Filter"
   ]
  },
  {
   "cell_type": "code",
   "execution_count": 13,
   "id": "6935dcfc-e7ef-4870-8e5a-010b27f45acb",
   "metadata": {
    "tags": []
   },
   "outputs": [
    {
     "data": {
      "text/plain": [
       "[4, 5, 6]"
      ]
     },
     "execution_count": 13,
     "metadata": {},
     "output_type": "execute_result"
    }
   ],
   "source": [
    "rdd2.filter(lambda x: x > 3).collect()"
   ]
  },
  {
   "cell_type": "markdown",
   "id": "0a96e137-6bc2-4416-b33c-6b6a9595deff",
   "metadata": {},
   "source": [
    "##### 5. Sample"
   ]
  },
  {
   "cell_type": "code",
   "execution_count": 14,
   "id": "05b6ed19-46c0-4466-b82e-07409a19e70f",
   "metadata": {
    "tags": []
   },
   "outputs": [
    {
     "data": {
      "text/plain": [
       "['Alice', 'Charlie', 'Frank']"
      ]
     },
     "execution_count": 14,
     "metadata": {},
     "output_type": "execute_result"
    }
   ],
   "source": [
    "rdd1.sample(withReplacement=False, fraction=0.5).collect()"
   ]
  },
  {
   "cell_type": "markdown",
   "id": "f940152c-1dcb-41fc-895c-b6588570eb9a",
   "metadata": {},
   "source": [
    "##### 6. Union"
   ]
  },
  {
   "cell_type": "code",
   "execution_count": 15,
   "id": "bd84adc5-e41b-47ee-9efe-8458d03ad6d4",
   "metadata": {
    "tags": []
   },
   "outputs": [
    {
     "data": {
      "text/plain": [
       "[1, 2, 3, 4, 5, 6, 3, 2, 10, 20]"
      ]
     },
     "execution_count": 15,
     "metadata": {},
     "output_type": "execute_result"
    }
   ],
   "source": [
    "rdd2.union(sc.parallelize([10,20])).collect()"
   ]
  },
  {
   "cell_type": "markdown",
   "id": "761f850a-8f55-4577-881f-98fe9a7cfbfd",
   "metadata": {},
   "source": [
    "##### 7. Intersection"
   ]
  },
  {
   "cell_type": "code",
   "execution_count": 17,
   "id": "d41eb221-b730-4ef6-a7e2-c4e1275c8311",
   "metadata": {
    "tags": []
   },
   "outputs": [
    {
     "name": "stderr",
     "output_type": "stream",
     "text": [
      "                                                                                \r"
     ]
    },
    {
     "data": {
      "text/plain": [
       "[2, 3]"
      ]
     },
     "execution_count": 17,
     "metadata": {},
     "output_type": "execute_result"
    }
   ],
   "source": [
    "rdd2.intersection(sc.parallelize([2, 3, 10])).collect()"
   ]
  },
  {
   "cell_type": "markdown",
   "id": "37c6aeed-41ad-46a0-aa58-f7d91ca92998",
   "metadata": {},
   "source": [
    "##### 8. Distinct"
   ]
  },
  {
   "cell_type": "code",
   "execution_count": 18,
   "id": "fef12143-5288-4678-a74f-de928d882e01",
   "metadata": {
    "tags": []
   },
   "outputs": [
    {
     "data": {
      "text/plain": [
       "[2, 4, 6, 1, 3, 5]"
      ]
     },
     "execution_count": 18,
     "metadata": {},
     "output_type": "execute_result"
    }
   ],
   "source": [
    "rdd2.distinct().collect()"
   ]
  },
  {
   "cell_type": "markdown",
   "id": "00a6f4a4-54bf-4fae-9729-53cdc2020ddb",
   "metadata": {},
   "source": [
    "##### 9. GroupByKey"
   ]
  },
  {
   "cell_type": "code",
   "execution_count": 19,
   "id": "558c0f47-2897-4119-8711-db65523bc88e",
   "metadata": {
    "tags": []
   },
   "outputs": [
    {
     "data": {
      "text/plain": [
       "[('Alice', [85, 95]), ('Bob', [90, 88]), ('Charlie', [70])]"
      ]
     },
     "execution_count": 19,
     "metadata": {},
     "output_type": "execute_result"
    }
   ],
   "source": [
    "rdd_kv.groupByKey().mapValues(list).collect()"
   ]
  },
  {
   "cell_type": "markdown",
   "id": "e5da0099-dc90-48c8-a630-128088bb0de3",
   "metadata": {},
   "source": [
    "##### 10. ReduceByKey"
   ]
  },
  {
   "cell_type": "code",
   "execution_count": 20,
   "id": "aac14018-2db9-444c-bcfd-629126860800",
   "metadata": {
    "tags": []
   },
   "outputs": [
    {
     "data": {
      "text/plain": [
       "[('Alice', 180), ('Bob', 178), ('Charlie', 70)]"
      ]
     },
     "execution_count": 20,
     "metadata": {},
     "output_type": "execute_result"
    }
   ],
   "source": [
    "rdd_kv.reduceByKey(lambda a, b: a + b).collect()"
   ]
  },
  {
   "cell_type": "markdown",
   "id": "c99fc6d3-9c70-407f-9d1d-2e698fb61f1b",
   "metadata": {},
   "source": [
    "##### 11. Join"
   ]
  },
  {
   "cell_type": "code",
   "execution_count": 21,
   "id": "fffc74de-7c3b-41ed-a0bb-98c25007fa79",
   "metadata": {
    "tags": []
   },
   "outputs": [
    {
     "name": "stderr",
     "output_type": "stream",
     "text": [
      "                                                                                \r"
     ]
    },
    {
     "data": {
      "text/plain": [
       "[('Alice', (85, 'F')), ('Bob', (90, 'M'))]"
      ]
     },
     "execution_count": 21,
     "metadata": {},
     "output_type": "execute_result"
    }
   ],
   "source": [
    "rdd_a = sc.parallelize([(\"Alice\", 85), (\"Bob\", 90)])\n",
    "rdd_b = sc.parallelize([(\"Alice\", \"F\"), (\"Bob\", \"M\")])\n",
    "\n",
    "rdd_a.join(rdd_b).collect()"
   ]
  },
  {
   "cell_type": "markdown",
   "id": "cf94077b-c57f-4193-b497-5bee486acdbe",
   "metadata": {},
   "source": [
    "##### 12. Coalesce (reduce # of partitions)"
   ]
  },
  {
   "cell_type": "code",
   "execution_count": 22,
   "id": "90a3ba6e-f8d0-4d1e-90f8-c26b05b283f1",
   "metadata": {
    "tags": []
   },
   "outputs": [
    {
     "data": {
      "text/plain": [
       "[[1, 2, 3, 4], [5, 6, 3, 2]]"
      ]
     },
     "execution_count": 22,
     "metadata": {},
     "output_type": "execute_result"
    }
   ],
   "source": [
    "rdd2.coalesce(2).glom().collect()\n",
    "# Combines into 2 partitions (for performance tuning)"
   ]
  },
  {
   "cell_type": "markdown",
   "id": "02b348fe-e249-4f2c-a265-140560a2b5c5",
   "metadata": {
    "tags": []
   },
   "source": [
    "### ⚡ Actions"
   ]
  },
  {
   "cell_type": "markdown",
   "id": "e94be5e1-759d-42ff-9302-ad4f11d1d6dc",
   "metadata": {},
   "source": [
    "##### 1. Count"
   ]
  },
  {
   "cell_type": "code",
   "execution_count": 24,
   "id": "71987df9-54d2-436c-aab5-95024f41549d",
   "metadata": {
    "tags": []
   },
   "outputs": [
    {
     "data": {
      "text/plain": [
       "8"
      ]
     },
     "execution_count": 24,
     "metadata": {},
     "output_type": "execute_result"
    }
   ],
   "source": [
    "rdd2.count()\n",
    "# Total number of elements"
   ]
  },
  {
   "cell_type": "markdown",
   "id": "c264a7dc-784f-4aca-a2b1-5a4602ec8d36",
   "metadata": {},
   "source": [
    "##### 2. Collect"
   ]
  },
  {
   "cell_type": "code",
   "execution_count": 25,
   "id": "57ad0b59-ad39-471f-b538-12420f1da319",
   "metadata": {
    "tags": []
   },
   "outputs": [
    {
     "data": {
      "text/plain": [
       "['Alice', 'Bob', 'Charlie', 'David', 'Eve', 'Frank']"
      ]
     },
     "execution_count": 25,
     "metadata": {},
     "output_type": "execute_result"
    }
   ],
   "source": [
    "rdd1.collect()\n",
    "# Returns the whole dataset"
   ]
  },
  {
   "cell_type": "markdown",
   "id": "f4dde27d-c798-4b33-943f-ce17e0bdfdc6",
   "metadata": {},
   "source": [
    "##### 3. Take"
   ]
  },
  {
   "cell_type": "code",
   "execution_count": 26,
   "id": "d459a916-fc45-4ee4-b36f-c5c5e698a74e",
   "metadata": {
    "tags": []
   },
   "outputs": [
    {
     "data": {
      "text/plain": [
       "[1, 2, 3]"
      ]
     },
     "execution_count": 26,
     "metadata": {},
     "output_type": "execute_result"
    }
   ],
   "source": [
    "rdd2.take(3)\n",
    "# First 3 elements"
   ]
  },
  {
   "cell_type": "markdown",
   "id": "c523d2c4-ba37-47d9-807c-c1e362225f35",
   "metadata": {},
   "source": [
    "### 4. Top"
   ]
  },
  {
   "cell_type": "code",
   "execution_count": 27,
   "id": "8e8050cc-e265-474a-89fa-b2413510a17d",
   "metadata": {
    "tags": []
   },
   "outputs": [
    {
     "data": {
      "text/plain": [
       "[6, 5, 4]"
      ]
     },
     "execution_count": 27,
     "metadata": {},
     "output_type": "execute_result"
    }
   ],
   "source": [
    "rdd2.top(3)\n",
    "# Top 3 values"
   ]
  },
  {
   "cell_type": "markdown",
   "id": "43ff5028-1783-44ef-bcc7-abdb51a42b79",
   "metadata": {},
   "source": [
    "##### 5. CountByValue"
   ]
  },
  {
   "cell_type": "code",
   "execution_count": 28,
   "id": "51bbf095-f852-4353-a66b-faac95377bea",
   "metadata": {
    "tags": []
   },
   "outputs": [
    {
     "data": {
      "text/plain": [
       "defaultdict(int, {1: 1, 2: 2, 3: 2, 4: 1, 5: 1, 6: 1})"
      ]
     },
     "execution_count": 28,
     "metadata": {},
     "output_type": "execute_result"
    }
   ],
   "source": [
    "rdd2.countByValue()"
   ]
  },
  {
   "cell_type": "markdown",
   "id": "b574f0ab-0923-4594-bb73-06635fe22f02",
   "metadata": {},
   "source": [
    "##### 6. Reduce"
   ]
  },
  {
   "cell_type": "code",
   "execution_count": 29,
   "id": "47fe414c-87d7-4408-952c-56ea382ed1e8",
   "metadata": {
    "tags": []
   },
   "outputs": [
    {
     "data": {
      "text/plain": [
       "26"
      ]
     },
     "execution_count": 29,
     "metadata": {},
     "output_type": "execute_result"
    }
   ],
   "source": [
    "rdd2.reduce(lambda a, b: a + b)\n",
    "# Sum of all elements"
   ]
  },
  {
   "cell_type": "markdown",
   "id": "c9eeaebf-b9a5-4e43-9d20-9baf12023861",
   "metadata": {},
   "source": [
    "##### 7. Fold"
   ]
  },
  {
   "cell_type": "code",
   "execution_count": 30,
   "id": "e42d0503-073b-4e7e-b740-681cafb76fe2",
   "metadata": {
    "tags": []
   },
   "outputs": [
    {
     "data": {
      "text/plain": [
       "26"
      ]
     },
     "execution_count": 30,
     "metadata": {},
     "output_type": "execute_result"
    }
   ],
   "source": [
    "rdd2.fold(0, lambda a, b: a + b)\n",
    "# Same as reduce but starts with initial zero value"
   ]
  },
  {
   "cell_type": "markdown",
   "id": "1df82be9-7178-44ab-9ba7-878cbac22d4d",
   "metadata": {},
   "source": [
    "##### 8. Aggregate"
   ]
  },
  {
   "cell_type": "code",
   "execution_count": 31,
   "id": "479aabcd-dc0e-4caa-b1a6-48a3b48cc6d9",
   "metadata": {
    "tags": []
   },
   "outputs": [
    {
     "data": {
      "text/plain": [
       "(26, 8)"
      ]
     },
     "execution_count": 31,
     "metadata": {},
     "output_type": "execute_result"
    }
   ],
   "source": [
    "rdd2.aggregate((0, 0),\n",
    "               lambda acc, val: (acc[0] + val, acc[1] + 1),\n",
    "               lambda a, b: (a[0] + b[0], a[1] + b[1]))\n",
    "# (sum, count)"
   ]
  },
  {
   "cell_type": "markdown",
   "id": "876ef45e-7f13-4b72-abc0-1d04060fed1b",
   "metadata": {},
   "source": [
    "##### 9. Foreach"
   ]
  },
  {
   "cell_type": "code",
   "execution_count": 33,
   "id": "c0f6fcb1-ac2a-42cf-940e-287cc49a3fe3",
   "metadata": {
    "tags": []
   },
   "outputs": [],
   "source": [
    "def print_elem(x):\n",
    "    print(f\"Element: {x}\")\n",
    "\n",
    "rdd1.foreach(print_elem)\n",
    "# Prints each element (note: won’t show output in collect/driver unless used with `foreachPartition`)"
   ]
  },
  {
   "cell_type": "code",
   "execution_count": null,
   "id": "02421dc2",
   "metadata": {},
   "outputs": [],
   "source": [
    "spark.stop()"
   ]
  }
 ],
 "metadata": {
  "kernelspec": {
   "display_name": ".venv",
   "language": "python",
   "name": "python3"
  },
  "language_info": {
   "codemirror_mode": {
    "name": "ipython",
    "version": 3
   },
   "file_extension": ".py",
   "mimetype": "text/x-python",
   "name": "python",
   "nbconvert_exporter": "python",
   "pygments_lexer": "ipython3",
   "version": "3.13.2"
  }
 },
 "nbformat": 4,
 "nbformat_minor": 5
}
