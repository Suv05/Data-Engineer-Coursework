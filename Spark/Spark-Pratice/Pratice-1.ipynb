{
 "cells": [
  {
   "cell_type": "code",
   "execution_count": 1,
   "id": "e6b3961d",
   "metadata": {},
   "outputs": [],
   "source": [
    "from pyspark.sql import SparkSession"
   ]
  },
  {
   "cell_type": "code",
   "execution_count": 2,
   "id": "8e93a6a8",
   "metadata": {},
   "outputs": [],
   "source": [
    "spark=SparkSession.builder.appName(\"RDD\").getOrCreate()\n",
    "sc=spark.sparkContext"
   ]
  },
  {
   "cell_type": "code",
   "execution_count": 5,
   "id": "afa01945",
   "metadata": {},
   "outputs": [],
   "source": [
    "# Dataset 1: Names\n",
    "rdd1 = sc.parallelize([\"Alice\", \"Bob\", \"Charlie\", \"David\", \"Eve\", \"Frank\"])\n",
    "\n",
    "# Dataset 2: Numbers\n",
    "rdd2 = sc.parallelize([1, 2, 3, 4, 5, 6, 3, 2])\n",
    "\n",
    "# Dataset 3: Key-Value pairs (name, score)\n",
    "rdd_kv = sc.parallelize([\n",
    "    (\"Alice\", 85),\n",
    "    (\"Bob\", 90),\n",
    "    (\"Charlie\", 70),\n",
    "    (\"Alice\", 95),\n",
    "    (\"Bob\", 88)\n",
    "])"
   ]
  },
  {
   "cell_type": "code",
   "execution_count": null,
   "id": "f163d7a1",
   "metadata": {},
   "outputs": [],
   "source": [
    "rdd2.map(lambda x:x*x).collect()"
   ]
  },
  {
   "cell_type": "code",
   "execution_count": null,
   "id": "f8c00104",
   "metadata": {},
   "outputs": [],
   "source": [
    "rdd1.flatMap(lambda x:list(x)).collect()"
   ]
  },
  {
   "cell_type": "code",
   "execution_count": null,
   "id": "12ffc2b5",
   "metadata": {},
   "outputs": [],
   "source": [
    "rdd_kv.reduceByKey(lambda a,b:a+b).collect()"
   ]
  },
  {
   "cell_type": "code",
   "execution_count": null,
   "id": "0b2cee01",
   "metadata": {},
   "outputs": [],
   "source": [
    "result=rdd2.aggregate(\n",
    "    (0,0),\n",
    "    lambda acc,value:(acc[0]+value,acc[1]+1),\n",
    "    lambda acc1,acc2:(acc1[0] + acc2[0], acc1[1] + acc2[1])\n",
    ")"
   ]
  },
  {
   "cell_type": "markdown",
   "id": "a02e6da1",
   "metadata": {},
   "source": [
    "### Learn more about aggregate function and different types"
   ]
  },
  {
   "cell_type": "code",
   "execution_count": null,
   "id": "02a0230a",
   "metadata": {},
   "outputs": [],
   "source": []
  }
 ],
 "metadata": {
  "kernelspec": {
   "display_name": ".venv",
   "language": "python",
   "name": "python3"
  },
  "language_info": {
   "codemirror_mode": {
    "name": "ipython",
    "version": 3
   },
   "file_extension": ".py",
   "mimetype": "text/x-python",
   "name": "python",
   "nbconvert_exporter": "python",
   "pygments_lexer": "ipython3",
   "version": "3.13.2"
  }
 },
 "nbformat": 4,
 "nbformat_minor": 5
}
