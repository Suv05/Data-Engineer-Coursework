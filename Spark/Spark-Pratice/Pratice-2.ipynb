{
 "cells": [
  {
   "cell_type": "code",
   "execution_count": 13,
   "id": "90286add",
   "metadata": {},
   "outputs": [],
   "source": [
    "from pyspark.sql import SparkSession;\n",
    "from pyspark.sql.functions import to_date,col,desc"
   ]
  },
  {
   "cell_type": "code",
   "execution_count": 14,
   "id": "5460c424",
   "metadata": {},
   "outputs": [],
   "source": [
    "# 🔧 SOLUTION 1: Check if Spark session exists, create if needed\n",
    "def get_spark_session():\n",
    "    try:\n",
    "        # Try to get existing active session\n",
    "        spark = SparkSession.getActiveSession()\n",
    "        if spark is None:\n",
    "            # Create new session if none exists\n",
    "            spark = (\n",
    "                SparkSession.builder.appName(\"sparkDataframe\")\n",
    "                .master(\"local[*]\")\n",
    "                .config(\"spark.executor.memory\", \"2g\")\n",
    "                .config(\"spark.driver.memory\", \"2g\")\n",
    "                .getOrCreate()\n",
    "            )\n",
    "        return spark\n",
    "    except:\n",
    "        # If anything goes wrong, create fresh session\n",
    "        spark = (\n",
    "            SparkSession.builder.appName(\"sparkDataframe\")\n",
    "            .config(\"spark.executor.memory\", \"2g\")\n",
    "            .config(\"spark.driver.memory\", \"2g\")\n",
    "            .getOrCreate()\n",
    "        )\n",
    "        return spark"
   ]
  },
  {
   "cell_type": "code",
   "execution_count": 15,
   "id": "0041e507",
   "metadata": {},
   "outputs": [],
   "source": [
    "# Get or create Spark session\n",
    "spark = get_spark_session()"
   ]
  },
  {
   "cell_type": "code",
   "execution_count": 16,
   "id": "ab6a50e5",
   "metadata": {},
   "outputs": [
    {
     "name": "stdout",
     "output_type": "stream",
     "text": [
      "✅ Spark Session Status:\n",
      "   App Name: sparkDataframe\n",
      "   Master: local[*]\n",
      "   Spark Version: 4.0.0\n",
      "   Active: True\n"
     ]
    }
   ],
   "source": [
    "print(\"✅ Spark Session Status:\")\n",
    "print(f\"   App Name: {spark.sparkContext.appName}\")\n",
    "print(f\"   Master: {spark.sparkContext.master}\")\n",
    "print(f\"   Spark Version: {spark.version}\")\n",
    "print(f\"   Active: {not spark.sparkContext._jsc.sc().isStopped()}\")"
   ]
  },
  {
   "cell_type": "code",
   "execution_count": 17,
   "id": "7beb6113",
   "metadata": {},
   "outputs": [],
   "source": [
    "retail_orders_data = [\n",
    "    {\"OrderID\": \"ORD001\", \"CustomerID\": \"CUST101\", \"ProductID\": \"PROD003\", \"ProductName\": \"Mouse XYZ\", \"Quantity\": 2, \"UnitPrice\": 25.50, \"OrderDate\": \"2024-01-15\", \"Country\": \"USA\"},\n",
    "    {\"OrderID\": \"ORD002\", \"CustomerID\": \"CUST102\", \"ProductID\": \"PROD002\", \"ProductName\": \"Smartphone B\", \"Quantity\": 1, \"UnitPrice\": 850.00, \"OrderDate\": \"2024-01-16\", \"Country\": \"Canada\"},\n",
    "    {\"OrderID\": \"ORD003\", \"CustomerID\": \"CUST101\", \"ProductID\": \"PROD004\", \"ProductName\": \"Keyboard Pro\", \"Quantity\": 1, \"UnitPrice\": 75.00, \"OrderDate\": \"2024-01-17\", \"Country\": \"USA\"},\n",
    "    {\"OrderID\": \"ORD003\", \"CustomerID\": \"CUST101\", \"ProductID\": \"PROD005\", \"ProductName\": \"Webcam HD\", \"Quantity\": 1, \"UnitPrice\": 49.99, \"OrderDate\": \"2024-01-17\", \"Country\": \"USA\"},\n",
    "    {\"OrderID\": \"ORD004\", \"CustomerID\": \"CUST103\", \"ProductID\": \"PROD001\", \"ProductName\": \"Laptop A\", \"Quantity\": 1, \"UnitPrice\": 1200.00, \"OrderDate\": \"2024-01-18\", \"Country\": \"UK\"},\n",
    "    {\"OrderID\": \"ORD004\", \"CustomerID\": \"CUST103\", \"ProductID\": \"PROD006\", \"ProductName\": \"Monitor 27in\", \"Quantity\": 1, \"UnitPrice\": 300.00, \"OrderDate\": \"2024-01-18\", \"Country\": \"UK\"},\n",
    "    {\"OrderID\": \"ORD005\", \"CustomerID\": \"CUST104\", \"ProductID\": \"PROD007\", \"ProductName\": \"Headphones ANC\", \"Quantity\": 1, \"UnitPrice\": 199.99, \"OrderDate\": \"2024-01-19\", \"Country\": \"Australia\"},\n",
    "    {\"OrderID\": \"ORD006\", \"CustomerID\": \"CUST105\", \"ProductID\": \"PROD008\", \"ProductName\": \"External SSD 1TB\", \"Quantity\": 1, \"UnitPrice\": 150.00, \"OrderDate\": \"2024-01-20\", \"Country\": \"USA\"},\n",
    "    {\"OrderID\": \"ORD006\", \"CustomerID\": \"CUST105\", \"ProductID\": \"PROD003\", \"ProductName\": \"Mouse XYZ\", \"Quantity\": 1, \"UnitPrice\": 25.50, \"OrderDate\": \"2024-01-20\", \"Country\": \"USA\"},\n",
    "    {\"OrderID\": \"ORD007\", \"CustomerID\": \"CUST102\", \"ProductID\": \"PROD009\", \"ProductName\": \"Printer Laser\", \"Quantity\": 1, \"UnitPrice\": 220.00, \"OrderDate\": \"2024-01-21\", \"Country\": \"Canada\"},\n",
    "    {\"OrderID\": \"ORD008\", \"CustomerID\": \"CUST106\", \"ProductID\": \"PROD010\", \"ProductName\": \"Smartwatch X\", \"Quantity\": 1, \"UnitPrice\": 299.99, \"OrderDate\": \"2024-01-22\", \"Country\": \"Germany\"},\n",
    "    {\"OrderID\": \"ORD009\", \"CustomerID\": \"CUST101\", \"ProductID\": \"PROD002\", \"ProductName\": \"Smartphone B\", \"Quantity\": 1, \"UnitPrice\": 850.00, \"OrderDate\": \"2024-01-23\", \"Country\": \"USA\"},\n",
    "    {\"OrderID\": \"ORD010\", \"CustomerID\": \"CUST107\", \"ProductID\": \"PROD004\", \"ProductName\": \"Keyboard Pro\", \"Quantity\": 2, \"UnitPrice\": 75.00, \"OrderDate\": \"2024-01-24\", \"Country\": \"France\"},\n",
    "    {\"OrderID\": \"ORD011\", \"CustomerID\": \"CUST108\", \"ProductID\": \"PROD001\", \"ProductName\": \"Laptop A\", \"Quantity\": 1, \"UnitPrice\": 1200.00, \"OrderDate\": \"2024-01-25\", \"Country\": \"USA\"},\n",
    "    {\"OrderID\": \"ORD011\", \"CustomerID\": \"CUST108\", \"ProductID\": \"PROD005\", \"ProductName\": \"Webcam HD\", \"Quantity\": 1, \"UnitPrice\": 49.99, \"OrderDate\": \"2024-01-25\", \"Country\": \"USA\"},\n",
    "    {\"OrderID\": \"ORD012\", \"CustomerID\": \"CUST109\", \"ProductID\": \"PROD007\", \"ProductName\": \"Headphones ANC\", \"Quantity\": 1, \"UnitPrice\": 199.99, \"OrderDate\": \"2024-01-26\", \"Country\": \"Japan\"},\n",
    "    {\"OrderID\": \"ORD013\", \"CustomerID\": \"CUST101\", \"ProductID\": \"PROD003\", \"ProductName\": \"Mouse XYZ\", \"Quantity\": 3, \"UnitPrice\": 25.50, \"OrderDate\": \"2024-01-27\", \"Country\": \"USA\"},\n",
    "    {\"OrderID\": \"ORD014\", \"CustomerID\": \"CUST110\", \"ProductID\": \"PROD006\", \"ProductName\": \"Monitor 27in\", \"Quantity\": 1, \"UnitPrice\": 300.00, \"OrderDate\": \"2024-01-28\", \"Country\": \"UK\"},\n",
    "    {\"OrderID\": \"ORD015\", \"CustomerID\": \"CUST102\", \"ProductID\": \"PROD008\", \"ProductName\": \"External SSD 1TB\", \"Quantity\": 1, \"UnitPrice\": 150.00, \"OrderDate\": \"2024-01-29\", \"Country\": \"Canada\"},\n",
    "    {\"OrderID\": \"ORD016\", \"CustomerID\": \"CUST103\", \"ProductID\": \"PROD009\", \"ProductName\": \"Printer Laser\", \"Quantity\": 1, \"UnitPrice\": 220.00, \"OrderDate\": \"2024-01-30\", \"Country\": \"UK\"},\n",
    "    {\"OrderID\": \"ORD017\", \"CustomerID\": \"CUST104\", \"ProductID\": \"PROD010\", \"ProductName\": \"Smartwatch X\", \"Quantity\": 1, \"UnitPrice\": 299.99, \"OrderDate\": \"2024-01-31\", \"Country\": \"Australia\"}\n",
    "]"
   ]
  },
  {
   "cell_type": "code",
   "execution_count": 18,
   "id": "e5f74267",
   "metadata": {},
   "outputs": [],
   "source": [
    "df_list=spark.createDataFrame(retail_orders_data)"
   ]
  },
  {
   "cell_type": "code",
   "execution_count": 19,
   "id": "5a54c841",
   "metadata": {},
   "outputs": [],
   "source": [
    "df_list=df_list.withColumn(\"orderDate\",to_date(col(\"orderDate\"),\"yyyy-MM-dd\"))"
   ]
  },
  {
   "cell_type": "code",
   "execution_count": 20,
   "id": "648787f0",
   "metadata": {},
   "outputs": [
    {
     "name": "stdout",
     "output_type": "stream",
     "text": [
      "root\n",
      " |-- Country: string (nullable = true)\n",
      " |-- CustomerID: string (nullable = true)\n",
      " |-- orderDate: date (nullable = true)\n",
      " |-- OrderID: string (nullable = true)\n",
      " |-- ProductID: string (nullable = true)\n",
      " |-- ProductName: string (nullable = true)\n",
      " |-- Quantity: long (nullable = true)\n",
      " |-- UnitPrice: double (nullable = true)\n",
      "\n"
     ]
    }
   ],
   "source": [
    "df_list.printSchema()"
   ]
  },
  {
   "cell_type": "code",
   "execution_count": null,
   "id": "a1e9c264",
   "metadata": {},
   "outputs": [],
   "source": [
    "#df_list.show()"
   ]
  },
  {
   "cell_type": "code",
   "execution_count": null,
   "id": "2f4c376a",
   "metadata": {},
   "outputs": [],
   "source": [
    "usa_orders=df_list.filter(col(\"Country\")==\"USA\")\n",
    "print(usa_orders.collect())"
   ]
  },
  {
   "cell_type": "code",
   "execution_count": null,
   "id": "b01bc4b0",
   "metadata": {},
   "outputs": [],
   "source": [
    "quantity_product=df_list.filter(col(\"quantity\")>1)"
   ]
  },
  {
   "cell_type": "code",
   "execution_count": null,
   "id": "905a7137",
   "metadata": {},
   "outputs": [],
   "source": [
    "total_revenu=df_list.withColumn(\"totalRevenu\",col(\"quantity\")*col(\"price\"))\n",
    "total_revenu.select(\"order_id\",\"totalRevenu\").show()"
   ]
  },
  {
   "cell_type": "code",
   "execution_count": null,
   "id": "dc00db03",
   "metadata": {},
   "outputs": [],
   "source": [
    "#spark.stop()"
   ]
  }
 ],
 "metadata": {
  "kernelspec": {
   "display_name": ".venv",
   "language": "python",
   "name": "python3"
  },
  "language_info": {
   "codemirror_mode": {
    "name": "ipython",
    "version": 3
   },
   "file_extension": ".py",
   "mimetype": "text/x-python",
   "name": "python",
   "nbconvert_exporter": "python",
   "pygments_lexer": "ipython3",
   "version": "3.13.2"
  }
 },
 "nbformat": 4,
 "nbformat_minor": 5
}
