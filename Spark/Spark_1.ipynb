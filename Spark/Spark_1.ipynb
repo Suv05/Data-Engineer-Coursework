{
 "cells": [
  {
   "cell_type": "code",
   "execution_count": null,
   "id": "95693a70",
   "metadata": {},
   "outputs": [],
   "source": [
    "from pyspark.sql import SparkSession\n",
    "spark = SparkSession.builder.appName(\"WordcountDemo\").master(\"yarn\").getOrCreate()"
   ]
  },
  {
   "cell_type": "code",
   "execution_count": null,
   "id": "04611672",
   "metadata": {},
   "outputs": [],
   "source": [
    "#please first upload the text file to HDFS temp in dataproc\n",
    "hdfs_path = \"/temp/wordcount.txt\"\n",
    "# Read the text file from HDFS\n",
    "# Ensure that the HDFS path is correct and accessible\n",
    "rdd= spark.sparkContext.textFile(hdfs_path)"
   ]
  },
  {
   "cell_type": "code",
   "execution_count": null,
   "id": "15234c42",
   "metadata": {},
   "outputs": [],
   "source": [
    "rdd.collect()  # This will trigger the action and read the data from HDFS"
   ]
  },
  {
   "cell_type": "code",
   "execution_count": null,
   "id": "eb4e7e18",
   "metadata": {},
   "outputs": [],
   "source": [
    "['Goku Vegeta Gohan',\n",
    "'Goku Frieza Goku',\n",
    "'Vegeta Goku Frieza Gohan',\n",
    "'Gohan Frieza Goku Goku']"
   ]
  },
  {
   "cell_type": "code",
   "execution_count": null,
   "id": "27d5be94",
   "metadata": {},
   "outputs": [],
   "source": [
    "words=rdd.flatMap(lambda line:line.split(\" \"))  # Split each line into words"
   ]
  },
  {
   "cell_type": "code",
   "execution_count": null,
   "id": "4de3095f",
   "metadata": {},
   "outputs": [],
   "source": [
    "words.collect()  # Collect the words to trigger the action"
   ]
  },
  {
   "cell_type": "code",
   "execution_count": null,
   "id": "e2fbdbfd",
   "metadata": {},
   "outputs": [],
   "source": [
    "# Count the occurrences of each word\n",
    "word_counts = words.map(lambda word: (word, 1)).reduceByKey(lambda a, b: a + b)"
   ]
  },
  {
   "cell_type": "code",
   "execution_count": null,
   "id": "b2bf64eb",
   "metadata": {},
   "outputs": [],
   "source": [
    "word_counts.collect()  # Collect the word counts to trigger the action"
   ]
  }
 ],
 "metadata": {
  "kernelspec": {
   "display_name": ".venv",
   "language": "python",
   "name": "python3"
  },
  "language_info": {
   "codemirror_mode": {
    "name": "ipython",
    "version": 3
   },
   "file_extension": ".py",
   "mimetype": "text/x-python",
   "name": "python",
   "nbconvert_exporter": "python",
   "pygments_lexer": "ipython3",
   "version": "3.13.2"
  }
 },
 "nbformat": 4,
 "nbformat_minor": 5
}
